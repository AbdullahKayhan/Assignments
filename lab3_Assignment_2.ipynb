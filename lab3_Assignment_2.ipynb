{
  "cells": [
    {
      "cell_type": "markdown",
      "metadata": {
        "id": "view-in-github",
        "colab_type": "text"
      },
      "source": [
        "<a href=\"https://colab.research.google.com/github/AbdullahKayhan/Assignments/blob/main/lab3_Assignment_2.ipynb\" target=\"_parent\"><img src=\"https://colab.research.google.com/assets/colab-badge.svg\" alt=\"Open In Colab\"/></a>"
      ]
    },
    {
      "cell_type": "markdown",
      "metadata": {
        "id": "NbUSNInPw5Z1"
      },
      "source": [
        "___\n",
        "\n",
        "<p style=\"text-align: center;\"><img src=\"https://docs.google.com/uc?id=1lY0Uj5R04yMY3-ZppPWxqCr5pvBLYPnV\" class=\"img-fluid\" alt=\"Rossum\"></p>\n",
        "\n",
        "\n",
        "____\n"
      ]
    },
    {
      "cell_type": "code",
      "execution_count": null,
      "metadata": {
        "id": "GkCBQs8_w5Z5"
      },
      "outputs": [],
      "source": [
        "import pandas as pd"
      ]
    },
    {
      "cell_type": "code",
      "execution_count": null,
      "metadata": {
        "id": "6EYWam5Lw5Z6"
      },
      "outputs": [],
      "source": [
        "ecom = pd.read_csv('data.csv',encoding= 'unicode_escape')"
      ]
    },
    {
      "cell_type": "markdown",
      "metadata": {
        "id": "HyC76xsAw5Z6"
      },
      "source": [
        "**Check the head of the DataFrame.**"
      ]
    },
    {
      "cell_type": "code",
      "execution_count": null,
      "metadata": {
        "id": "hXyXmlXWw5Z6",
        "outputId": "c8a2d6f4-2db5-40f4-c47e-b311ea5a0d57"
      },
      "outputs": [
        {
          "data": {
            "text/html": [
              "<div>\n",
              "<style scoped>\n",
              "    .dataframe tbody tr th:only-of-type {\n",
              "        vertical-align: middle;\n",
              "    }\n",
              "\n",
              "    .dataframe tbody tr th {\n",
              "        vertical-align: top;\n",
              "    }\n",
              "\n",
              "    .dataframe thead th {\n",
              "        text-align: right;\n",
              "    }\n",
              "</style>\n",
              "<table border=\"1\" class=\"dataframe\">\n",
              "  <thead>\n",
              "    <tr style=\"text-align: right;\">\n",
              "      <th></th>\n",
              "      <th>InvoiceNo</th>\n",
              "      <th>StockCode</th>\n",
              "      <th>Description</th>\n",
              "      <th>Quantity</th>\n",
              "      <th>InvoiceDate</th>\n",
              "      <th>UnitPrice</th>\n",
              "      <th>CustomerID</th>\n",
              "      <th>Country</th>\n",
              "    </tr>\n",
              "  </thead>\n",
              "  <tbody>\n",
              "    <tr>\n",
              "      <th>0</th>\n",
              "      <td>536365</td>\n",
              "      <td>85123A</td>\n",
              "      <td>WHITE HANGING HEART T-LIGHT HOLDER</td>\n",
              "      <td>6</td>\n",
              "      <td>12/1/2010 8:26</td>\n",
              "      <td>2.55</td>\n",
              "      <td>17850.0</td>\n",
              "      <td>United Kingdom</td>\n",
              "    </tr>\n",
              "    <tr>\n",
              "      <th>1</th>\n",
              "      <td>536365</td>\n",
              "      <td>71053</td>\n",
              "      <td>WHITE METAL LANTERN</td>\n",
              "      <td>6</td>\n",
              "      <td>12/1/2010 8:26</td>\n",
              "      <td>3.39</td>\n",
              "      <td>17850.0</td>\n",
              "      <td>United Kingdom</td>\n",
              "    </tr>\n",
              "    <tr>\n",
              "      <th>2</th>\n",
              "      <td>536365</td>\n",
              "      <td>84406B</td>\n",
              "      <td>CREAM CUPID HEARTS COAT HANGER</td>\n",
              "      <td>8</td>\n",
              "      <td>12/1/2010 8:26</td>\n",
              "      <td>2.75</td>\n",
              "      <td>17850.0</td>\n",
              "      <td>United Kingdom</td>\n",
              "    </tr>\n",
              "    <tr>\n",
              "      <th>3</th>\n",
              "      <td>536365</td>\n",
              "      <td>84029G</td>\n",
              "      <td>KNITTED UNION FLAG HOT WATER BOTTLE</td>\n",
              "      <td>6</td>\n",
              "      <td>12/1/2010 8:26</td>\n",
              "      <td>3.39</td>\n",
              "      <td>17850.0</td>\n",
              "      <td>United Kingdom</td>\n",
              "    </tr>\n",
              "    <tr>\n",
              "      <th>4</th>\n",
              "      <td>536365</td>\n",
              "      <td>84029E</td>\n",
              "      <td>RED WOOLLY HOTTIE WHITE HEART.</td>\n",
              "      <td>6</td>\n",
              "      <td>12/1/2010 8:26</td>\n",
              "      <td>3.39</td>\n",
              "      <td>17850.0</td>\n",
              "      <td>United Kingdom</td>\n",
              "    </tr>\n",
              "  </tbody>\n",
              "</table>\n",
              "</div>"
            ],
            "text/plain": [
              "  InvoiceNo StockCode                          Description  Quantity  \\\n",
              "0    536365    85123A   WHITE HANGING HEART T-LIGHT HOLDER         6   \n",
              "1    536365     71053                  WHITE METAL LANTERN         6   \n",
              "2    536365    84406B       CREAM CUPID HEARTS COAT HANGER         8   \n",
              "3    536365    84029G  KNITTED UNION FLAG HOT WATER BOTTLE         6   \n",
              "4    536365    84029E       RED WOOLLY HOTTIE WHITE HEART.         6   \n",
              "\n",
              "      InvoiceDate  UnitPrice  CustomerID         Country  \n",
              "0  12/1/2010 8:26       2.55     17850.0  United Kingdom  \n",
              "1  12/1/2010 8:26       3.39     17850.0  United Kingdom  \n",
              "2  12/1/2010 8:26       2.75     17850.0  United Kingdom  \n",
              "3  12/1/2010 8:26       3.39     17850.0  United Kingdom  \n",
              "4  12/1/2010 8:26       3.39     17850.0  United Kingdom  "
            ]
          },
          "execution_count": 3,
          "metadata": {},
          "output_type": "execute_result"
        }
      ],
      "source": [
        "ecom.head()"
      ]
    },
    {
      "cell_type": "markdown",
      "metadata": {
        "id": "JHLjAb6kw5Z7"
      },
      "source": [
        "** How many rows and columns are there? **"
      ]
    },
    {
      "cell_type": "code",
      "execution_count": null,
      "metadata": {
        "id": "uTsO4yYbw5Z8",
        "outputId": "f415aa77-9497-451c-839f-8f911217edfc"
      },
      "outputs": [
        {
          "name": "stdout",
          "output_type": "stream",
          "text": [
            "<class 'pandas.core.frame.DataFrame'>\n",
            "RangeIndex: 541909 entries, 0 to 541908\n",
            "Data columns (total 8 columns):\n",
            " #   Column       Non-Null Count   Dtype  \n",
            "---  ------       --------------   -----  \n",
            " 0   InvoiceNo    541909 non-null  object \n",
            " 1   StockCode    541909 non-null  object \n",
            " 2   Description  540455 non-null  object \n",
            " 3   Quantity     541909 non-null  int64  \n",
            " 4   InvoiceDate  541909 non-null  object \n",
            " 5   UnitPrice    541909 non-null  float64\n",
            " 6   CustomerID   406829 non-null  float64\n",
            " 7   Country      541909 non-null  object \n",
            "dtypes: float64(2), int64(1), object(5)\n",
            "memory usage: 33.1+ MB\n"
          ]
        }
      ],
      "source": [
        "ecom.info()"
      ]
    },
    {
      "cell_type": "markdown",
      "metadata": {
        "id": "jz7nhYRWw5Z8"
      },
      "source": [
        "** Show the statistical measurements of ecom dataset **"
      ]
    },
    {
      "cell_type": "code",
      "execution_count": null,
      "metadata": {
        "id": "vUmgHgyfw5Z9",
        "outputId": "7fcbe6af-6094-4f9a-cb57-846089c4b4f9"
      },
      "outputs": [
        {
          "data": {
            "text/html": [
              "<div>\n",
              "<style scoped>\n",
              "    .dataframe tbody tr th:only-of-type {\n",
              "        vertical-align: middle;\n",
              "    }\n",
              "\n",
              "    .dataframe tbody tr th {\n",
              "        vertical-align: top;\n",
              "    }\n",
              "\n",
              "    .dataframe thead th {\n",
              "        text-align: right;\n",
              "    }\n",
              "</style>\n",
              "<table border=\"1\" class=\"dataframe\">\n",
              "  <thead>\n",
              "    <tr style=\"text-align: right;\">\n",
              "      <th></th>\n",
              "      <th>Quantity</th>\n",
              "      <th>UnitPrice</th>\n",
              "      <th>CustomerID</th>\n",
              "    </tr>\n",
              "  </thead>\n",
              "  <tbody>\n",
              "    <tr>\n",
              "      <th>count</th>\n",
              "      <td>541909.000000</td>\n",
              "      <td>541909.000000</td>\n",
              "      <td>406829.000000</td>\n",
              "    </tr>\n",
              "    <tr>\n",
              "      <th>mean</th>\n",
              "      <td>9.552250</td>\n",
              "      <td>4.611114</td>\n",
              "      <td>15287.690570</td>\n",
              "    </tr>\n",
              "    <tr>\n",
              "      <th>std</th>\n",
              "      <td>218.081158</td>\n",
              "      <td>96.759853</td>\n",
              "      <td>1713.600303</td>\n",
              "    </tr>\n",
              "    <tr>\n",
              "      <th>min</th>\n",
              "      <td>-80995.000000</td>\n",
              "      <td>-11062.060000</td>\n",
              "      <td>12346.000000</td>\n",
              "    </tr>\n",
              "    <tr>\n",
              "      <th>25%</th>\n",
              "      <td>1.000000</td>\n",
              "      <td>1.250000</td>\n",
              "      <td>13953.000000</td>\n",
              "    </tr>\n",
              "    <tr>\n",
              "      <th>50%</th>\n",
              "      <td>3.000000</td>\n",
              "      <td>2.080000</td>\n",
              "      <td>15152.000000</td>\n",
              "    </tr>\n",
              "    <tr>\n",
              "      <th>75%</th>\n",
              "      <td>10.000000</td>\n",
              "      <td>4.130000</td>\n",
              "      <td>16791.000000</td>\n",
              "    </tr>\n",
              "    <tr>\n",
              "      <th>max</th>\n",
              "      <td>80995.000000</td>\n",
              "      <td>38970.000000</td>\n",
              "      <td>18287.000000</td>\n",
              "    </tr>\n",
              "  </tbody>\n",
              "</table>\n",
              "</div>"
            ],
            "text/plain": [
              "            Quantity      UnitPrice     CustomerID\n",
              "count  541909.000000  541909.000000  406829.000000\n",
              "mean        9.552250       4.611114   15287.690570\n",
              "std       218.081158      96.759853    1713.600303\n",
              "min    -80995.000000  -11062.060000   12346.000000\n",
              "25%         1.000000       1.250000   13953.000000\n",
              "50%         3.000000       2.080000   15152.000000\n",
              "75%        10.000000       4.130000   16791.000000\n",
              "max     80995.000000   38970.000000   18287.000000"
            ]
          },
          "execution_count": 5,
          "metadata": {},
          "output_type": "execute_result"
        }
      ],
      "source": [
        "ecom.describe()"
      ]
    },
    {
      "cell_type": "markdown",
      "metadata": {
        "id": "3tXWnVmsw5Z9"
      },
      "source": [
        "** What is the average Purchase Price? **"
      ]
    },
    {
      "cell_type": "code",
      "execution_count": null,
      "metadata": {
        "id": "igj9cPyfw5Z-",
        "outputId": "50512085-03d4-42ed-9f37-39d4ed410355"
      },
      "outputs": [
        {
          "data": {
            "text/html": [
              "<div>\n",
              "<style scoped>\n",
              "    .dataframe tbody tr th:only-of-type {\n",
              "        vertical-align: middle;\n",
              "    }\n",
              "\n",
              "    .dataframe tbody tr th {\n",
              "        vertical-align: top;\n",
              "    }\n",
              "\n",
              "    .dataframe thead th {\n",
              "        text-align: right;\n",
              "    }\n",
              "</style>\n",
              "<table border=\"1\" class=\"dataframe\">\n",
              "  <thead>\n",
              "    <tr style=\"text-align: right;\">\n",
              "      <th></th>\n",
              "      <th>InvoiceNo</th>\n",
              "      <th>StockCode</th>\n",
              "      <th>Description</th>\n",
              "      <th>Quantity</th>\n",
              "      <th>InvoiceDate</th>\n",
              "      <th>UnitPrice</th>\n",
              "      <th>CustomerID</th>\n",
              "      <th>Country</th>\n",
              "    </tr>\n",
              "  </thead>\n",
              "  <tbody>\n",
              "    <tr>\n",
              "      <th>0</th>\n",
              "      <td>536365</td>\n",
              "      <td>85123A</td>\n",
              "      <td>WHITE HANGING HEART T-LIGHT HOLDER</td>\n",
              "      <td>6</td>\n",
              "      <td>12/1/2010 8:26</td>\n",
              "      <td>2.55</td>\n",
              "      <td>17850.0</td>\n",
              "      <td>United Kingdom</td>\n",
              "    </tr>\n",
              "    <tr>\n",
              "      <th>1</th>\n",
              "      <td>536365</td>\n",
              "      <td>71053</td>\n",
              "      <td>WHITE METAL LANTERN</td>\n",
              "      <td>6</td>\n",
              "      <td>12/1/2010 8:26</td>\n",
              "      <td>3.39</td>\n",
              "      <td>17850.0</td>\n",
              "      <td>United Kingdom</td>\n",
              "    </tr>\n",
              "    <tr>\n",
              "      <th>2</th>\n",
              "      <td>536365</td>\n",
              "      <td>84406B</td>\n",
              "      <td>CREAM CUPID HEARTS COAT HANGER</td>\n",
              "      <td>8</td>\n",
              "      <td>12/1/2010 8:26</td>\n",
              "      <td>2.75</td>\n",
              "      <td>17850.0</td>\n",
              "      <td>United Kingdom</td>\n",
              "    </tr>\n",
              "    <tr>\n",
              "      <th>3</th>\n",
              "      <td>536365</td>\n",
              "      <td>84029G</td>\n",
              "      <td>KNITTED UNION FLAG HOT WATER BOTTLE</td>\n",
              "      <td>6</td>\n",
              "      <td>12/1/2010 8:26</td>\n",
              "      <td>3.39</td>\n",
              "      <td>17850.0</td>\n",
              "      <td>United Kingdom</td>\n",
              "    </tr>\n",
              "    <tr>\n",
              "      <th>4</th>\n",
              "      <td>536365</td>\n",
              "      <td>84029E</td>\n",
              "      <td>RED WOOLLY HOTTIE WHITE HEART.</td>\n",
              "      <td>6</td>\n",
              "      <td>12/1/2010 8:26</td>\n",
              "      <td>3.39</td>\n",
              "      <td>17850.0</td>\n",
              "      <td>United Kingdom</td>\n",
              "    </tr>\n",
              "    <tr>\n",
              "      <th>...</th>\n",
              "      <td>...</td>\n",
              "      <td>...</td>\n",
              "      <td>...</td>\n",
              "      <td>...</td>\n",
              "      <td>...</td>\n",
              "      <td>...</td>\n",
              "      <td>...</td>\n",
              "      <td>...</td>\n",
              "    </tr>\n",
              "    <tr>\n",
              "      <th>541904</th>\n",
              "      <td>581587</td>\n",
              "      <td>22613</td>\n",
              "      <td>PACK OF 20 SPACEBOY NAPKINS</td>\n",
              "      <td>12</td>\n",
              "      <td>12/9/2011 12:50</td>\n",
              "      <td>0.85</td>\n",
              "      <td>12680.0</td>\n",
              "      <td>France</td>\n",
              "    </tr>\n",
              "    <tr>\n",
              "      <th>541905</th>\n",
              "      <td>581587</td>\n",
              "      <td>22899</td>\n",
              "      <td>CHILDREN'S APRON DOLLY GIRL</td>\n",
              "      <td>6</td>\n",
              "      <td>12/9/2011 12:50</td>\n",
              "      <td>2.10</td>\n",
              "      <td>12680.0</td>\n",
              "      <td>France</td>\n",
              "    </tr>\n",
              "    <tr>\n",
              "      <th>541906</th>\n",
              "      <td>581587</td>\n",
              "      <td>23254</td>\n",
              "      <td>CHILDRENS CUTLERY DOLLY GIRL</td>\n",
              "      <td>4</td>\n",
              "      <td>12/9/2011 12:50</td>\n",
              "      <td>4.15</td>\n",
              "      <td>12680.0</td>\n",
              "      <td>France</td>\n",
              "    </tr>\n",
              "    <tr>\n",
              "      <th>541907</th>\n",
              "      <td>581587</td>\n",
              "      <td>23255</td>\n",
              "      <td>CHILDRENS CUTLERY CIRCUS PARADE</td>\n",
              "      <td>4</td>\n",
              "      <td>12/9/2011 12:50</td>\n",
              "      <td>4.15</td>\n",
              "      <td>12680.0</td>\n",
              "      <td>France</td>\n",
              "    </tr>\n",
              "    <tr>\n",
              "      <th>541908</th>\n",
              "      <td>581587</td>\n",
              "      <td>22138</td>\n",
              "      <td>BAKING SET 9 PIECE RETROSPOT</td>\n",
              "      <td>3</td>\n",
              "      <td>12/9/2011 12:50</td>\n",
              "      <td>4.95</td>\n",
              "      <td>12680.0</td>\n",
              "      <td>France</td>\n",
              "    </tr>\n",
              "  </tbody>\n",
              "</table>\n",
              "<p>541909 rows × 8 columns</p>\n",
              "</div>"
            ],
            "text/plain": [
              "       InvoiceNo StockCode                          Description  Quantity  \\\n",
              "0         536365    85123A   WHITE HANGING HEART T-LIGHT HOLDER         6   \n",
              "1         536365     71053                  WHITE METAL LANTERN         6   \n",
              "2         536365    84406B       CREAM CUPID HEARTS COAT HANGER         8   \n",
              "3         536365    84029G  KNITTED UNION FLAG HOT WATER BOTTLE         6   \n",
              "4         536365    84029E       RED WOOLLY HOTTIE WHITE HEART.         6   \n",
              "...          ...       ...                                  ...       ...   \n",
              "541904    581587     22613          PACK OF 20 SPACEBOY NAPKINS        12   \n",
              "541905    581587     22899         CHILDREN'S APRON DOLLY GIRL          6   \n",
              "541906    581587     23254        CHILDRENS CUTLERY DOLLY GIRL          4   \n",
              "541907    581587     23255      CHILDRENS CUTLERY CIRCUS PARADE         4   \n",
              "541908    581587     22138        BAKING SET 9 PIECE RETROSPOT          3   \n",
              "\n",
              "            InvoiceDate  UnitPrice  CustomerID         Country  \n",
              "0        12/1/2010 8:26       2.55     17850.0  United Kingdom  \n",
              "1        12/1/2010 8:26       3.39     17850.0  United Kingdom  \n",
              "2        12/1/2010 8:26       2.75     17850.0  United Kingdom  \n",
              "3        12/1/2010 8:26       3.39     17850.0  United Kingdom  \n",
              "4        12/1/2010 8:26       3.39     17850.0  United Kingdom  \n",
              "...                 ...        ...         ...             ...  \n",
              "541904  12/9/2011 12:50       0.85     12680.0          France  \n",
              "541905  12/9/2011 12:50       2.10     12680.0          France  \n",
              "541906  12/9/2011 12:50       4.15     12680.0          France  \n",
              "541907  12/9/2011 12:50       4.15     12680.0          France  \n",
              "541908  12/9/2011 12:50       4.95     12680.0          France  \n",
              "\n",
              "[541909 rows x 8 columns]"
            ]
          },
          "execution_count": 6,
          "metadata": {},
          "output_type": "execute_result"
        }
      ],
      "source": [
        "ecom"
      ]
    },
    {
      "cell_type": "code",
      "execution_count": null,
      "metadata": {
        "id": "KzU-hzWbw5Z-",
        "outputId": "3e90479d-a455-4f23-d3a3-bc96f04af07a"
      },
      "outputs": [
        {
          "data": {
            "text/plain": [
              "4.611113626083471"
            ]
          },
          "execution_count": 7,
          "metadata": {},
          "output_type": "execute_result"
        }
      ],
      "source": [
        "ecom[\"UnitPrice\"].mean()"
      ]
    },
    {
      "cell_type": "markdown",
      "metadata": {
        "id": "0XCKfR6Hw5Z_"
      },
      "source": [
        "** What were the highest and lowest purchase prices? **"
      ]
    },
    {
      "cell_type": "code",
      "execution_count": null,
      "metadata": {
        "id": "AwJY5pX8w5Z_",
        "outputId": "2680694d-4792-4369-9ba1-60dfd7836512"
      },
      "outputs": [
        {
          "data": {
            "text/plain": [
              "38970.0"
            ]
          },
          "execution_count": 8,
          "metadata": {},
          "output_type": "execute_result"
        }
      ],
      "source": [
        "ecom[\"UnitPrice\"].max()"
      ]
    },
    {
      "cell_type": "code",
      "execution_count": null,
      "metadata": {
        "id": "7YuFh9WIw5Z_",
        "outputId": "02749c1b-dd38-41bf-9a06-35412d1c55d0"
      },
      "outputs": [
        {
          "data": {
            "text/plain": [
              "-11062.06"
            ]
          },
          "execution_count": 9,
          "metadata": {},
          "output_type": "execute_result"
        }
      ],
      "source": [
        "ecom[\"UnitPrice\"].min()"
      ]
    },
    {
      "cell_type": "markdown",
      "metadata": {
        "id": "olPfq7hnw5Z_"
      },
      "source": [
        "** List the country names and number of records belongs to each country **"
      ]
    },
    {
      "cell_type": "code",
      "execution_count": null,
      "metadata": {
        "id": "fvxjDzYtw5Z_",
        "outputId": "6fd1aa53-cd7c-4773-a16b-cadf62e1f650"
      },
      "outputs": [
        {
          "data": {
            "text/plain": [
              "United Kingdom          495478\n",
              "Germany                   9495\n",
              "France                    8557\n",
              "EIRE                      8196\n",
              "Spain                     2533\n",
              "Netherlands               2371\n",
              "Belgium                   2069\n",
              "Switzerland               2002\n",
              "Portugal                  1519\n",
              "Australia                 1259\n",
              "Norway                    1086\n",
              "Italy                      803\n",
              "Channel Islands            758\n",
              "Finland                    695\n",
              "Cyprus                     622\n",
              "Sweden                     462\n",
              "Unspecified                446\n",
              "Austria                    401\n",
              "Denmark                    389\n",
              "Japan                      358\n",
              "Poland                     341\n",
              "Israel                     297\n",
              "USA                        291\n",
              "Hong Kong                  288\n",
              "Singapore                  229\n",
              "Iceland                    182\n",
              "Canada                     151\n",
              "Greece                     146\n",
              "Malta                      127\n",
              "United Arab Emirates        68\n",
              "European Community          61\n",
              "RSA                         58\n",
              "Lebanon                     45\n",
              "Lithuania                   35\n",
              "Brazil                      32\n",
              "Czech Republic              30\n",
              "Bahrain                     19\n",
              "Saudi Arabia                10\n",
              "Name: Country, dtype: int64"
            ]
          },
          "execution_count": 10,
          "metadata": {},
          "output_type": "execute_result"
        }
      ],
      "source": [
        "ecom.Country.value_counts()"
      ]
    },
    {
      "cell_type": "markdown",
      "metadata": {
        "id": "KmNnBnoCw5aA"
      },
      "source": [
        "** How many records are as Country United Kingdom? **"
      ]
    },
    {
      "cell_type": "code",
      "execution_count": null,
      "metadata": {
        "id": "g8MwgJzQw5aA",
        "outputId": "289250d9-427e-4032-c579-4bea9963ca87"
      },
      "outputs": [
        {
          "data": {
            "text/plain": [
              "InvoiceNo      495478\n",
              "StockCode      495478\n",
              "Description    494024\n",
              "Quantity       495478\n",
              "InvoiceDate    495478\n",
              "UnitPrice      495478\n",
              "CustomerID     361878\n",
              "Country        495478\n",
              "dtype: int64"
            ]
          },
          "execution_count": 11,
          "metadata": {},
          "output_type": "execute_result"
        }
      ],
      "source": [
        "ecom[ecom[\"Country\"] == \"United Kingdom\"].count()"
      ]
    },
    {
      "cell_type": "markdown",
      "metadata": {
        "id": "oCMzEqeCw5aA"
      },
      "source": [
        "** Create a column named Total which shows the total amount of spend using UnitPrice and Quantity ? **\n"
      ]
    },
    {
      "cell_type": "code",
      "execution_count": null,
      "metadata": {
        "id": "rjoxNs5rw5aB",
        "outputId": "3b584fd0-8cec-4fc1-c90a-d155f2607748"
      },
      "outputs": [
        {
          "data": {
            "text/plain": [
              "0         15.30\n",
              "1         20.34\n",
              "2         22.00\n",
              "3         20.34\n",
              "4         20.34\n",
              "          ...  \n",
              "541904    10.20\n",
              "541905    12.60\n",
              "541906    16.60\n",
              "541907    16.60\n",
              "541908    14.85\n",
              "Name: Total, Length: 541909, dtype: float64"
            ]
          },
          "execution_count": 12,
          "metadata": {},
          "output_type": "execute_result"
        }
      ],
      "source": [
        "ecom[\"Total\"] = ecom[\"UnitPrice\"]* ecom.Quantity\n",
        "ecom.Total"
      ]
    },
    {
      "cell_type": "markdown",
      "metadata": {
        "id": "Zf3ON_ttw5aB"
      },
      "source": [
        "** Show total pending amount according to the Countries **"
      ]
    },
    {
      "cell_type": "markdown",
      "metadata": {
        "id": "9mVST7pRw5aB"
      },
      "source": [
        "![image.png](attachment:image.png)"
      ]
    },
    {
      "cell_type": "code",
      "execution_count": null,
      "metadata": {
        "id": "7wxOTBOkw5aB",
        "outputId": "3aca6aee-1a15-4a43-da07-c4b78413f177"
      },
      "outputs": [
        {
          "data": {
            "text/plain": [
              "Country\n",
              "Australia                137.077270\n",
              "Austria                   10.154320\n",
              "Bahrain                    0.548400\n",
              "Belgium                   40.910960\n",
              "Brazil                     1.143600\n",
              "Canada                     3.666380\n",
              "Channel Islands           20.086290\n",
              "Cyprus                    12.946290\n",
              "Czech Republic             0.707720\n",
              "Denmark                   18.768140\n",
              "EIRE                     263.276820\n",
              "European Community         1.291750\n",
              "Finland                   22.326740\n",
              "France                   197.403900\n",
              "Germany                  221.698210\n",
              "Greece                     4.710520\n",
              "Hong Kong                 10.117040\n",
              "Iceland                    4.310000\n",
              "Israel                     7.907820\n",
              "Italy                     16.890510\n",
              "Japan                     35.340620\n",
              "Lebanon                    1.693880\n",
              "Lithuania                  1.661060\n",
              "Malta                      2.505470\n",
              "Netherlands              284.661540\n",
              "Norway                    35.163460\n",
              "Poland                     7.213140\n",
              "Portugal                  29.367020\n",
              "RSA                        1.002310\n",
              "Saudi Arabia               0.131170\n",
              "Singapore                  9.120390\n",
              "Spain                     54.774580\n",
              "Sweden                    36.595910\n",
              "Switzerland               56.385350\n",
              "USA                        1.730920\n",
              "United Arab Emirates       1.902280\n",
              "United Kingdom          8187.806364\n",
              "Unspecified                4.749790\n",
              "Name: Total, dtype: float64"
            ]
          },
          "execution_count": 14,
          "metadata": {},
          "output_type": "execute_result"
        }
      ],
      "source": [
        "ecom.groupby(\"Country\")[\"Total\"].sum()/1000"
      ]
    },
    {
      "cell_type": "markdown",
      "metadata": {
        "id": "xXP9hPdxw5aB"
      },
      "source": [
        "** Which Country spend least? **"
      ]
    },
    {
      "cell_type": "code",
      "execution_count": null,
      "metadata": {
        "id": "EiDxkbmMw5aC",
        "outputId": "a7524fc4-3137-42a7-ca30-d684ce433290"
      },
      "outputs": [
        {
          "data": {
            "text/plain": [
              "Country\n",
              "Saudi Arabia    131.17\n",
              "Name: Total, dtype: float64"
            ]
          },
          "execution_count": 16,
          "metadata": {},
          "output_type": "execute_result"
        }
      ],
      "source": [
        "ecom.groupby(\"Country\")[\"Total\"].sum().sort_values(ascending = True)[:1]"
      ]
    },
    {
      "cell_type": "markdown",
      "metadata": {
        "id": "tNHOYmeXw5aC"
      },
      "source": [
        "** Calculate average of spending according to country with apply function? **"
      ]
    },
    {
      "cell_type": "code",
      "execution_count": null,
      "metadata": {
        "scrolled": true,
        "id": "ykRy0LQHw5aC",
        "outputId": "04c45adc-c8ed-4a52-eb5f-ab820d5b6796"
      },
      "outputs": [
        {
          "data": {
            "application/javascript": [
              "\n",
              "        if (window._pyforest_update_imports_cell) { window._pyforest_update_imports_cell('import numpy as np'); }\n",
              "    "
            ],
            "text/plain": [
              "<IPython.core.display.Javascript object>"
            ]
          },
          "metadata": {},
          "output_type": "display_data"
        },
        {
          "data": {
            "text/plain": [
              "Country\n",
              "Australia               108.877895\n",
              "Austria                  25.322494\n",
              "Bahrain                  28.863158\n",
              "Belgium                  19.773301\n",
              "Brazil                   35.737500\n",
              "Canada                   24.280662\n",
              "Channel Islands          26.499063\n",
              "Cyprus                   20.813971\n",
              "Czech Republic           23.590667\n",
              "Denmark                  48.247147\n",
              "EIRE                     32.122599\n",
              "European Community       21.176230\n",
              "Finland                  32.124806\n",
              "France                   23.069288\n",
              "Germany                  23.348943\n",
              "Greece                   32.263836\n",
              "Hong Kong                35.128611\n",
              "Iceland                  23.681319\n",
              "Israel                   26.625657\n",
              "Italy                    21.034259\n",
              "Japan                    98.716816\n",
              "Lebanon                  37.641778\n",
              "Lithuania                47.458857\n",
              "Malta                    19.728110\n",
              "Netherlands             120.059696\n",
              "Norway                   32.378877\n",
              "Poland                   21.152903\n",
              "Portugal                 19.333127\n",
              "RSA                      17.281207\n",
              "Saudi Arabia             13.117000\n",
              "Singapore                39.827031\n",
              "Spain                    21.624390\n",
              "Sweden                   79.211926\n",
              "Switzerland              28.164510\n",
              "USA                       5.948179\n",
              "United Arab Emirates     27.974706\n",
              "United Kingdom           16.525065\n",
              "Unspecified              10.649753\n",
              "Name: Total, dtype: float64"
            ]
          },
          "execution_count": 18,
          "metadata": {},
          "output_type": "execute_result"
        }
      ],
      "source": [
        "ecom.groupby(\"Country\")[\"Total\"].apply(np.mean)"
      ]
    },
    {
      "cell_type": "markdown",
      "metadata": {
        "id": "vrIHgRCdw5aC"
      },
      "source": [
        "** Calculate average,min,max of spending according to country with agg function? **"
      ]
    },
    {
      "cell_type": "code",
      "execution_count": null,
      "metadata": {
        "id": "nWUn81M-w5aC",
        "outputId": "123490fa-3cd5-4cb2-9d12-e717999e24b5"
      },
      "outputs": [
        {
          "data": {
            "text/html": [
              "<div>\n",
              "<style scoped>\n",
              "    .dataframe tbody tr th:only-of-type {\n",
              "        vertical-align: middle;\n",
              "    }\n",
              "\n",
              "    .dataframe tbody tr th {\n",
              "        vertical-align: top;\n",
              "    }\n",
              "\n",
              "    .dataframe thead th {\n",
              "        text-align: right;\n",
              "    }\n",
              "</style>\n",
              "<table border=\"1\" class=\"dataframe\">\n",
              "  <thead>\n",
              "    <tr style=\"text-align: right;\">\n",
              "      <th></th>\n",
              "      <th>mean</th>\n",
              "      <th>max</th>\n",
              "      <th>min</th>\n",
              "    </tr>\n",
              "    <tr>\n",
              "      <th>Country</th>\n",
              "      <th></th>\n",
              "      <th></th>\n",
              "      <th></th>\n",
              "    </tr>\n",
              "  </thead>\n",
              "  <tbody>\n",
              "    <tr>\n",
              "      <th>Australia</th>\n",
              "      <td>108.877895</td>\n",
              "      <td>1718.40</td>\n",
              "      <td>-425.00</td>\n",
              "    </tr>\n",
              "    <tr>\n",
              "      <th>Austria</th>\n",
              "      <td>25.322494</td>\n",
              "      <td>360.00</td>\n",
              "      <td>-21.25</td>\n",
              "    </tr>\n",
              "    <tr>\n",
              "      <th>Bahrain</th>\n",
              "      <td>28.863158</td>\n",
              "      <td>205.74</td>\n",
              "      <td>-205.74</td>\n",
              "    </tr>\n",
              "    <tr>\n",
              "      <th>Belgium</th>\n",
              "      <td>19.773301</td>\n",
              "      <td>165.00</td>\n",
              "      <td>-19.95</td>\n",
              "    </tr>\n",
              "    <tr>\n",
              "      <th>Brazil</th>\n",
              "      <td>35.737500</td>\n",
              "      <td>175.20</td>\n",
              "      <td>15.00</td>\n",
              "    </tr>\n",
              "    <tr>\n",
              "      <th>Canada</th>\n",
              "      <td>24.280662</td>\n",
              "      <td>550.94</td>\n",
              "      <td>2.50</td>\n",
              "    </tr>\n",
              "    <tr>\n",
              "      <th>Channel Islands</th>\n",
              "      <td>26.499063</td>\n",
              "      <td>408.00</td>\n",
              "      <td>-293.00</td>\n",
              "    </tr>\n",
              "    <tr>\n",
              "      <th>Cyprus</th>\n",
              "      <td>20.813971</td>\n",
              "      <td>320.69</td>\n",
              "      <td>-320.69</td>\n",
              "    </tr>\n",
              "    <tr>\n",
              "      <th>Czech Republic</th>\n",
              "      <td>23.590667</td>\n",
              "      <td>70.80</td>\n",
              "      <td>-35.76</td>\n",
              "    </tr>\n",
              "    <tr>\n",
              "      <th>Denmark</th>\n",
              "      <td>48.247147</td>\n",
              "      <td>428.40</td>\n",
              "      <td>-59.80</td>\n",
              "    </tr>\n",
              "    <tr>\n",
              "      <th>EIRE</th>\n",
              "      <td>32.122599</td>\n",
              "      <td>2365.20</td>\n",
              "      <td>-1917.00</td>\n",
              "    </tr>\n",
              "    <tr>\n",
              "      <th>European Community</th>\n",
              "      <td>21.176230</td>\n",
              "      <td>60.00</td>\n",
              "      <td>-8.50</td>\n",
              "    </tr>\n",
              "    <tr>\n",
              "      <th>Finland</th>\n",
              "      <td>32.124806</td>\n",
              "      <td>551.20</td>\n",
              "      <td>-80.00</td>\n",
              "    </tr>\n",
              "    <tr>\n",
              "      <th>France</th>\n",
              "      <td>23.069288</td>\n",
              "      <td>4161.06</td>\n",
              "      <td>-8322.12</td>\n",
              "    </tr>\n",
              "    <tr>\n",
              "      <th>Germany</th>\n",
              "      <td>23.348943</td>\n",
              "      <td>876.00</td>\n",
              "      <td>-599.50</td>\n",
              "    </tr>\n",
              "    <tr>\n",
              "      <th>Greece</th>\n",
              "      <td>32.263836</td>\n",
              "      <td>175.20</td>\n",
              "      <td>-50.00</td>\n",
              "    </tr>\n",
              "    <tr>\n",
              "      <th>Hong Kong</th>\n",
              "      <td>35.128611</td>\n",
              "      <td>2653.95</td>\n",
              "      <td>-2653.95</td>\n",
              "    </tr>\n",
              "    <tr>\n",
              "      <th>Iceland</th>\n",
              "      <td>23.681319</td>\n",
              "      <td>249.60</td>\n",
              "      <td>5.04</td>\n",
              "    </tr>\n",
              "    <tr>\n",
              "      <th>Israel</th>\n",
              "      <td>26.625657</td>\n",
              "      <td>350.40</td>\n",
              "      <td>-136.00</td>\n",
              "    </tr>\n",
              "    <tr>\n",
              "      <th>Italy</th>\n",
              "      <td>21.034259</td>\n",
              "      <td>300.00</td>\n",
              "      <td>-89.55</td>\n",
              "    </tr>\n",
              "    <tr>\n",
              "      <th>Japan</th>\n",
              "      <td>98.716816</td>\n",
              "      <td>3794.40</td>\n",
              "      <td>-1591.20</td>\n",
              "    </tr>\n",
              "    <tr>\n",
              "      <th>Lebanon</th>\n",
              "      <td>37.641778</td>\n",
              "      <td>153.00</td>\n",
              "      <td>10.20</td>\n",
              "    </tr>\n",
              "    <tr>\n",
              "      <th>Lithuania</th>\n",
              "      <td>47.458857</td>\n",
              "      <td>122.40</td>\n",
              "      <td>13.20</td>\n",
              "    </tr>\n",
              "    <tr>\n",
              "      <th>Malta</th>\n",
              "      <td>19.728110</td>\n",
              "      <td>455.00</td>\n",
              "      <td>-130.00</td>\n",
              "    </tr>\n",
              "    <tr>\n",
              "      <th>Netherlands</th>\n",
              "      <td>120.059696</td>\n",
              "      <td>4992.00</td>\n",
              "      <td>-266.40</td>\n",
              "    </tr>\n",
              "    <tr>\n",
              "      <th>Norway</th>\n",
              "      <td>32.378877</td>\n",
              "      <td>700.00</td>\n",
              "      <td>-376.50</td>\n",
              "    </tr>\n",
              "    <tr>\n",
              "      <th>Poland</th>\n",
              "      <td>21.152903</td>\n",
              "      <td>120.00</td>\n",
              "      <td>-39.80</td>\n",
              "    </tr>\n",
              "    <tr>\n",
              "      <th>Portugal</th>\n",
              "      <td>19.333127</td>\n",
              "      <td>1241.98</td>\n",
              "      <td>-1241.98</td>\n",
              "    </tr>\n",
              "    <tr>\n",
              "      <th>RSA</th>\n",
              "      <td>17.281207</td>\n",
              "      <td>38.25</td>\n",
              "      <td>0.00</td>\n",
              "    </tr>\n",
              "    <tr>\n",
              "      <th>Saudi Arabia</th>\n",
              "      <td>13.117000</td>\n",
              "      <td>19.80</td>\n",
              "      <td>-14.75</td>\n",
              "    </tr>\n",
              "    <tr>\n",
              "      <th>Singapore</th>\n",
              "      <td>39.827031</td>\n",
              "      <td>3949.32</td>\n",
              "      <td>-3949.32</td>\n",
              "    </tr>\n",
              "    <tr>\n",
              "      <th>Spain</th>\n",
              "      <td>21.624390</td>\n",
              "      <td>1350.00</td>\n",
              "      <td>-1715.85</td>\n",
              "    </tr>\n",
              "    <tr>\n",
              "      <th>Sweden</th>\n",
              "      <td>79.211926</td>\n",
              "      <td>1188.00</td>\n",
              "      <td>-1188.00</td>\n",
              "    </tr>\n",
              "    <tr>\n",
              "      <th>Switzerland</th>\n",
              "      <td>28.164510</td>\n",
              "      <td>360.00</td>\n",
              "      <td>-179.00</td>\n",
              "    </tr>\n",
              "    <tr>\n",
              "      <th>USA</th>\n",
              "      <td>5.948179</td>\n",
              "      <td>81.36</td>\n",
              "      <td>-74.88</td>\n",
              "    </tr>\n",
              "    <tr>\n",
              "      <th>United Arab Emirates</th>\n",
              "      <td>27.974706</td>\n",
              "      <td>153.00</td>\n",
              "      <td>3.48</td>\n",
              "    </tr>\n",
              "    <tr>\n",
              "      <th>United Kingdom</th>\n",
              "      <td>16.525065</td>\n",
              "      <td>168469.60</td>\n",
              "      <td>-168469.60</td>\n",
              "    </tr>\n",
              "    <tr>\n",
              "      <th>Unspecified</th>\n",
              "      <td>10.649753</td>\n",
              "      <td>69.36</td>\n",
              "      <td>0.19</td>\n",
              "    </tr>\n",
              "  </tbody>\n",
              "</table>\n",
              "</div>"
            ],
            "text/plain": [
              "                            mean        max        min\n",
              "Country                                               \n",
              "Australia             108.877895    1718.40    -425.00\n",
              "Austria                25.322494     360.00     -21.25\n",
              "Bahrain                28.863158     205.74    -205.74\n",
              "Belgium                19.773301     165.00     -19.95\n",
              "Brazil                 35.737500     175.20      15.00\n",
              "Canada                 24.280662     550.94       2.50\n",
              "Channel Islands        26.499063     408.00    -293.00\n",
              "Cyprus                 20.813971     320.69    -320.69\n",
              "Czech Republic         23.590667      70.80     -35.76\n",
              "Denmark                48.247147     428.40     -59.80\n",
              "EIRE                   32.122599    2365.20   -1917.00\n",
              "European Community     21.176230      60.00      -8.50\n",
              "Finland                32.124806     551.20     -80.00\n",
              "France                 23.069288    4161.06   -8322.12\n",
              "Germany                23.348943     876.00    -599.50\n",
              "Greece                 32.263836     175.20     -50.00\n",
              "Hong Kong              35.128611    2653.95   -2653.95\n",
              "Iceland                23.681319     249.60       5.04\n",
              "Israel                 26.625657     350.40    -136.00\n",
              "Italy                  21.034259     300.00     -89.55\n",
              "Japan                  98.716816    3794.40   -1591.20\n",
              "Lebanon                37.641778     153.00      10.20\n",
              "Lithuania              47.458857     122.40      13.20\n",
              "Malta                  19.728110     455.00    -130.00\n",
              "Netherlands           120.059696    4992.00    -266.40\n",
              "Norway                 32.378877     700.00    -376.50\n",
              "Poland                 21.152903     120.00     -39.80\n",
              "Portugal               19.333127    1241.98   -1241.98\n",
              "RSA                    17.281207      38.25       0.00\n",
              "Saudi Arabia           13.117000      19.80     -14.75\n",
              "Singapore              39.827031    3949.32   -3949.32\n",
              "Spain                  21.624390    1350.00   -1715.85\n",
              "Sweden                 79.211926    1188.00   -1188.00\n",
              "Switzerland            28.164510     360.00    -179.00\n",
              "USA                     5.948179      81.36     -74.88\n",
              "United Arab Emirates   27.974706     153.00       3.48\n",
              "United Kingdom         16.525065  168469.60 -168469.60\n",
              "Unspecified            10.649753      69.36       0.19"
            ]
          },
          "execution_count": 19,
          "metadata": {},
          "output_type": "execute_result"
        }
      ],
      "source": [
        "ecom.groupby(\"Country\")[\"Total\"].aggregate({\"min\",\"max\",\"mean\"})"
      ]
    },
    {
      "cell_type": "markdown",
      "metadata": {
        "id": "y7oC_09Mw5aC"
      },
      "source": [
        "** What is the max Total spending in whole dataset and show the records of that spending ?**"
      ]
    },
    {
      "cell_type": "code",
      "execution_count": null,
      "metadata": {
        "id": "nYinCioAw5aD",
        "outputId": "96e24926-a1fe-4c1d-f6de-f0b565c38cb2"
      },
      "outputs": [
        {
          "data": {
            "text/html": [
              "<div>\n",
              "<style scoped>\n",
              "    .dataframe tbody tr th:only-of-type {\n",
              "        vertical-align: middle;\n",
              "    }\n",
              "\n",
              "    .dataframe tbody tr th {\n",
              "        vertical-align: top;\n",
              "    }\n",
              "\n",
              "    .dataframe thead th {\n",
              "        text-align: right;\n",
              "    }\n",
              "</style>\n",
              "<table border=\"1\" class=\"dataframe\">\n",
              "  <thead>\n",
              "    <tr style=\"text-align: right;\">\n",
              "      <th></th>\n",
              "      <th>InvoiceNo</th>\n",
              "      <th>StockCode</th>\n",
              "      <th>Description</th>\n",
              "      <th>Quantity</th>\n",
              "      <th>InvoiceDate</th>\n",
              "      <th>UnitPrice</th>\n",
              "      <th>CustomerID</th>\n",
              "      <th>Country</th>\n",
              "      <th>Total</th>\n",
              "    </tr>\n",
              "  </thead>\n",
              "  <tbody>\n",
              "    <tr>\n",
              "      <th>540421</th>\n",
              "      <td>581483</td>\n",
              "      <td>23843</td>\n",
              "      <td>PAPER CRAFT , LITTLE BIRDIE</td>\n",
              "      <td>80995</td>\n",
              "      <td>12/9/2011 9:15</td>\n",
              "      <td>2.08</td>\n",
              "      <td>16446.0</td>\n",
              "      <td>United Kingdom</td>\n",
              "      <td>168469.6</td>\n",
              "    </tr>\n",
              "  </tbody>\n",
              "</table>\n",
              "</div>"
            ],
            "text/plain": [
              "       InvoiceNo StockCode                  Description  Quantity  \\\n",
              "540421    581483     23843  PAPER CRAFT , LITTLE BIRDIE     80995   \n",
              "\n",
              "           InvoiceDate  UnitPrice  CustomerID         Country     Total  \n",
              "540421  12/9/2011 9:15       2.08     16446.0  United Kingdom  168469.6  "
            ]
          },
          "execution_count": 22,
          "metadata": {},
          "output_type": "execute_result"
        }
      ],
      "source": [
        "ecom[ecom.Total == ecom.Total.max()]"
      ]
    },
    {
      "cell_type": "markdown",
      "metadata": {
        "id": "I0khzQmAw5aD"
      },
      "source": [
        "** How many people who live in Spain spend more than average Total ?**"
      ]
    },
    {
      "cell_type": "code",
      "execution_count": null,
      "metadata": {
        "id": "pSG5mJ3Cw5aD",
        "outputId": "d9b654c7-15b6-407a-f3a3-db2199509918"
      },
      "outputs": [
        {
          "data": {
            "text/html": [
              "<div>\n",
              "<style scoped>\n",
              "    .dataframe tbody tr th:only-of-type {\n",
              "        vertical-align: middle;\n",
              "    }\n",
              "\n",
              "    .dataframe tbody tr th {\n",
              "        vertical-align: top;\n",
              "    }\n",
              "\n",
              "    .dataframe thead th {\n",
              "        text-align: right;\n",
              "    }\n",
              "</style>\n",
              "<table border=\"1\" class=\"dataframe\">\n",
              "  <thead>\n",
              "    <tr style=\"text-align: right;\">\n",
              "      <th></th>\n",
              "      <th>InvoiceNo</th>\n",
              "      <th>StockCode</th>\n",
              "      <th>Description</th>\n",
              "      <th>Quantity</th>\n",
              "      <th>InvoiceDate</th>\n",
              "      <th>UnitPrice</th>\n",
              "      <th>CustomerID</th>\n",
              "      <th>Country</th>\n",
              "      <th>Total</th>\n",
              "    </tr>\n",
              "  </thead>\n",
              "  <tbody>\n",
              "    <tr>\n",
              "      <th>6421</th>\n",
              "      <td>536944</td>\n",
              "      <td>22383</td>\n",
              "      <td>LUNCH BAG SUKI  DESIGN</td>\n",
              "      <td>70</td>\n",
              "      <td>12/3/2010 12:20</td>\n",
              "      <td>1.65</td>\n",
              "      <td>12557.0</td>\n",
              "      <td>Spain</td>\n",
              "      <td>115.5</td>\n",
              "    </tr>\n",
              "    <tr>\n",
              "      <th>6422</th>\n",
              "      <td>536944</td>\n",
              "      <td>22384</td>\n",
              "      <td>LUNCH BAG PINK POLKADOT</td>\n",
              "      <td>100</td>\n",
              "      <td>12/3/2010 12:20</td>\n",
              "      <td>1.45</td>\n",
              "      <td>12557.0</td>\n",
              "      <td>Spain</td>\n",
              "      <td>145.0</td>\n",
              "    </tr>\n",
              "    <tr>\n",
              "      <th>6423</th>\n",
              "      <td>536944</td>\n",
              "      <td>20727</td>\n",
              "      <td>LUNCH BAG  BLACK SKULL.</td>\n",
              "      <td>60</td>\n",
              "      <td>12/3/2010 12:20</td>\n",
              "      <td>1.65</td>\n",
              "      <td>12557.0</td>\n",
              "      <td>Spain</td>\n",
              "      <td>99.0</td>\n",
              "    </tr>\n",
              "    <tr>\n",
              "      <th>6424</th>\n",
              "      <td>536944</td>\n",
              "      <td>20725</td>\n",
              "      <td>LUNCH BAG RED RETROSPOT</td>\n",
              "      <td>70</td>\n",
              "      <td>12/3/2010 12:20</td>\n",
              "      <td>1.65</td>\n",
              "      <td>12557.0</td>\n",
              "      <td>Spain</td>\n",
              "      <td>115.5</td>\n",
              "    </tr>\n",
              "    <tr>\n",
              "      <th>6425</th>\n",
              "      <td>536944</td>\n",
              "      <td>20728</td>\n",
              "      <td>LUNCH BAG CARS BLUE</td>\n",
              "      <td>100</td>\n",
              "      <td>12/3/2010 12:20</td>\n",
              "      <td>1.45</td>\n",
              "      <td>12557.0</td>\n",
              "      <td>Spain</td>\n",
              "      <td>145.0</td>\n",
              "    </tr>\n",
              "    <tr>\n",
              "      <th>...</th>\n",
              "      <td>...</td>\n",
              "      <td>...</td>\n",
              "      <td>...</td>\n",
              "      <td>...</td>\n",
              "      <td>...</td>\n",
              "      <td>...</td>\n",
              "      <td>...</td>\n",
              "      <td>...</td>\n",
              "      <td>...</td>\n",
              "    </tr>\n",
              "    <tr>\n",
              "      <th>495924</th>\n",
              "      <td>578339</td>\n",
              "      <td>47567B</td>\n",
              "      <td>TEA TIME KITCHEN APRON</td>\n",
              "      <td>6</td>\n",
              "      <td>11/24/2011 9:07</td>\n",
              "      <td>5.95</td>\n",
              "      <td>12421.0</td>\n",
              "      <td>Spain</td>\n",
              "      <td>35.7</td>\n",
              "    </tr>\n",
              "    <tr>\n",
              "      <th>495926</th>\n",
              "      <td>578339</td>\n",
              "      <td>21907</td>\n",
              "      <td>I'M ON HOLIDAY METAL SIGN</td>\n",
              "      <td>12</td>\n",
              "      <td>11/24/2011 9:07</td>\n",
              "      <td>2.10</td>\n",
              "      <td>12421.0</td>\n",
              "      <td>Spain</td>\n",
              "      <td>25.2</td>\n",
              "    </tr>\n",
              "    <tr>\n",
              "      <th>495928</th>\n",
              "      <td>578339</td>\n",
              "      <td>POST</td>\n",
              "      <td>POSTAGE</td>\n",
              "      <td>1</td>\n",
              "      <td>11/24/2011 9:07</td>\n",
              "      <td>28.00</td>\n",
              "      <td>12421.0</td>\n",
              "      <td>Spain</td>\n",
              "      <td>28.0</td>\n",
              "    </tr>\n",
              "    <tr>\n",
              "      <th>531430</th>\n",
              "      <td>580955</td>\n",
              "      <td>21121</td>\n",
              "      <td>SET/10 RED POLKADOT PARTY CANDLES</td>\n",
              "      <td>24</td>\n",
              "      <td>12/6/2011 14:22</td>\n",
              "      <td>1.25</td>\n",
              "      <td>12442.0</td>\n",
              "      <td>Spain</td>\n",
              "      <td>30.0</td>\n",
              "    </tr>\n",
              "    <tr>\n",
              "      <th>531431</th>\n",
              "      <td>580955</td>\n",
              "      <td>POST</td>\n",
              "      <td>POSTAGE</td>\n",
              "      <td>1</td>\n",
              "      <td>12/6/2011 14:22</td>\n",
              "      <td>28.00</td>\n",
              "      <td>12442.0</td>\n",
              "      <td>Spain</td>\n",
              "      <td>28.0</td>\n",
              "    </tr>\n",
              "  </tbody>\n",
              "</table>\n",
              "<p>728 rows × 9 columns</p>\n",
              "</div>"
            ],
            "text/plain": [
              "       InvoiceNo StockCode                        Description  Quantity  \\\n",
              "6421      536944     22383            LUNCH BAG SUKI  DESIGN         70   \n",
              "6422      536944     22384            LUNCH BAG PINK POLKADOT       100   \n",
              "6423      536944     20727            LUNCH BAG  BLACK SKULL.        60   \n",
              "6424      536944     20725            LUNCH BAG RED RETROSPOT        70   \n",
              "6425      536944     20728                LUNCH BAG CARS BLUE       100   \n",
              "...          ...       ...                                ...       ...   \n",
              "495924    578339    47567B             TEA TIME KITCHEN APRON         6   \n",
              "495926    578339     21907          I'M ON HOLIDAY METAL SIGN        12   \n",
              "495928    578339      POST                            POSTAGE         1   \n",
              "531430    580955     21121  SET/10 RED POLKADOT PARTY CANDLES        24   \n",
              "531431    580955      POST                            POSTAGE         1   \n",
              "\n",
              "            InvoiceDate  UnitPrice  CustomerID Country  Total  \n",
              "6421    12/3/2010 12:20       1.65     12557.0   Spain  115.5  \n",
              "6422    12/3/2010 12:20       1.45     12557.0   Spain  145.0  \n",
              "6423    12/3/2010 12:20       1.65     12557.0   Spain   99.0  \n",
              "6424    12/3/2010 12:20       1.65     12557.0   Spain  115.5  \n",
              "6425    12/3/2010 12:20       1.45     12557.0   Spain  145.0  \n",
              "...                 ...        ...         ...     ...    ...  \n",
              "495924  11/24/2011 9:07       5.95     12421.0   Spain   35.7  \n",
              "495926  11/24/2011 9:07       2.10     12421.0   Spain   25.2  \n",
              "495928  11/24/2011 9:07      28.00     12421.0   Spain   28.0  \n",
              "531430  12/6/2011 14:22       1.25     12442.0   Spain   30.0  \n",
              "531431  12/6/2011 14:22      28.00     12442.0   Spain   28.0  \n",
              "\n",
              "[728 rows x 9 columns]"
            ]
          },
          "execution_count": 26,
          "metadata": {},
          "output_type": "execute_result"
        }
      ],
      "source": [
        "ecom[(ecom.Total>ecom.Total.mean()) & (ecom.Country == \"Spain\")]"
      ]
    },
    {
      "cell_type": "code",
      "execution_count": null,
      "metadata": {
        "id": "ZDQLYtaFw5aD",
        "outputId": "8d12b04b-1b79-4e12-8445-9e5c3212ffda"
      },
      "outputs": [
        {
          "data": {
            "text/plain": [
              "InvoiceNo      728\n",
              "StockCode      728\n",
              "Description    728\n",
              "Quantity       728\n",
              "InvoiceDate    728\n",
              "UnitPrice      728\n",
              "CustomerID     728\n",
              "Country        728\n",
              "Total          728\n",
              "dtype: int64"
            ]
          },
          "execution_count": 23,
          "metadata": {},
          "output_type": "execute_result"
        }
      ],
      "source": [
        "ecom[(ecom.Total>ecom.Total.mean()) & (ecom.Country == \"Spain\")].count()"
      ]
    },
    {
      "cell_type": "markdown",
      "metadata": {
        "id": "-IkL-P-2w5aD"
      },
      "source": [
        "** Convert datatype of InvoiceDate to datetime and assign it to new column name InvoiceDate2**"
      ]
    },
    {
      "cell_type": "code",
      "execution_count": null,
      "metadata": {
        "id": "wyUty5wdw5aD",
        "outputId": "9bcd1904-509f-44ab-b632-cc9c5a1a5355"
      },
      "outputs": [
        {
          "data": {
            "text/plain": [
              "0        2010-12-01 08:26:00\n",
              "1        2010-12-01 08:26:00\n",
              "2        2010-12-01 08:26:00\n",
              "3        2010-12-01 08:26:00\n",
              "4        2010-12-01 08:26:00\n",
              "                 ...        \n",
              "541904   2011-12-09 12:50:00\n",
              "541905   2011-12-09 12:50:00\n",
              "541906   2011-12-09 12:50:00\n",
              "541907   2011-12-09 12:50:00\n",
              "541908   2011-12-09 12:50:00\n",
              "Name: InvoiceDate2, Length: 541909, dtype: datetime64[ns]"
            ]
          },
          "execution_count": 28,
          "metadata": {},
          "output_type": "execute_result"
        }
      ],
      "source": [
        "ecom[\"InvoiceDate2\"] = pd.to_datetime(ecom.InvoiceDate)\n",
        "ecom[\"InvoiceDate2\"]"
      ]
    },
    {
      "cell_type": "markdown",
      "metadata": {
        "id": "8Po_s0iWw5aE"
      },
      "source": [
        "** Take only date values (year-month-day) from InvoiceDate2 and assign it to a new column named date **"
      ]
    },
    {
      "cell_type": "code",
      "execution_count": null,
      "metadata": {
        "id": "mHjULAcXw5aE",
        "outputId": "d156a8da-46b3-44f1-da15-397cf1729840"
      },
      "outputs": [
        {
          "data": {
            "text/plain": [
              "0         2010-12-01\n",
              "1         2010-12-01\n",
              "2         2010-12-01\n",
              "3         2010-12-01\n",
              "4         2010-12-01\n",
              "             ...    \n",
              "541904    2011-12-09\n",
              "541905    2011-12-09\n",
              "541906    2011-12-09\n",
              "541907    2011-12-09\n",
              "541908    2011-12-09\n",
              "Name: InvoiceDate2, Length: 541909, dtype: object"
            ]
          },
          "execution_count": 29,
          "metadata": {},
          "output_type": "execute_result"
        }
      ],
      "source": [
        "ecom.InvoiceDate2.dt.date"
      ]
    },
    {
      "cell_type": "code",
      "execution_count": null,
      "metadata": {
        "id": "mnIKO3cuw5aE"
      },
      "outputs": [],
      "source": [
        "ecom[\"date\"] = pd.to_datetime(ecom.InvoiceDate2.dt.date)"
      ]
    },
    {
      "cell_type": "code",
      "execution_count": null,
      "metadata": {
        "id": "TjAMSgrXw5aE",
        "outputId": "5a6c5824-0a4f-4659-c660-734b285a9849"
      },
      "outputs": [
        {
          "data": {
            "text/plain": [
              "0        2010-12-01\n",
              "1        2010-12-01\n",
              "2        2010-12-01\n",
              "3        2010-12-01\n",
              "4        2010-12-01\n",
              "            ...    \n",
              "541904   2011-12-09\n",
              "541905   2011-12-09\n",
              "541906   2011-12-09\n",
              "541907   2011-12-09\n",
              "541908   2011-12-09\n",
              "Name: date, Length: 541909, dtype: datetime64[ns]"
            ]
          },
          "execution_count": 31,
          "metadata": {},
          "output_type": "execute_result"
        }
      ],
      "source": [
        "ecom.date"
      ]
    },
    {
      "cell_type": "code",
      "execution_count": null,
      "metadata": {
        "scrolled": true,
        "id": "SIyryobYw5aE",
        "outputId": "ddee3c18-a1d9-4a44-c494-f4a5136720cb"
      },
      "outputs": [
        {
          "data": {
            "text/html": [
              "<div>\n",
              "<style scoped>\n",
              "    .dataframe tbody tr th:only-of-type {\n",
              "        vertical-align: middle;\n",
              "    }\n",
              "\n",
              "    .dataframe tbody tr th {\n",
              "        vertical-align: top;\n",
              "    }\n",
              "\n",
              "    .dataframe thead th {\n",
              "        text-align: right;\n",
              "    }\n",
              "</style>\n",
              "<table border=\"1\" class=\"dataframe\">\n",
              "  <thead>\n",
              "    <tr style=\"text-align: right;\">\n",
              "      <th></th>\n",
              "      <th>InvoiceNo</th>\n",
              "      <th>StockCode</th>\n",
              "      <th>Description</th>\n",
              "      <th>Quantity</th>\n",
              "      <th>InvoiceDate</th>\n",
              "      <th>UnitPrice</th>\n",
              "      <th>CustomerID</th>\n",
              "      <th>Country</th>\n",
              "      <th>Total</th>\n",
              "      <th>InvoiceDate2</th>\n",
              "      <th>date</th>\n",
              "    </tr>\n",
              "  </thead>\n",
              "  <tbody>\n",
              "    <tr>\n",
              "      <th>0</th>\n",
              "      <td>536365</td>\n",
              "      <td>85123A</td>\n",
              "      <td>WHITE HANGING HEART T-LIGHT HOLDER</td>\n",
              "      <td>6</td>\n",
              "      <td>12/1/2010 8:26</td>\n",
              "      <td>2.55</td>\n",
              "      <td>17850.0</td>\n",
              "      <td>United Kingdom</td>\n",
              "      <td>15.30</td>\n",
              "      <td>2010-12-01 08:26:00</td>\n",
              "      <td>2010-12-01</td>\n",
              "    </tr>\n",
              "    <tr>\n",
              "      <th>1</th>\n",
              "      <td>536365</td>\n",
              "      <td>71053</td>\n",
              "      <td>WHITE METAL LANTERN</td>\n",
              "      <td>6</td>\n",
              "      <td>12/1/2010 8:26</td>\n",
              "      <td>3.39</td>\n",
              "      <td>17850.0</td>\n",
              "      <td>United Kingdom</td>\n",
              "      <td>20.34</td>\n",
              "      <td>2010-12-01 08:26:00</td>\n",
              "      <td>2010-12-01</td>\n",
              "    </tr>\n",
              "    <tr>\n",
              "      <th>2</th>\n",
              "      <td>536365</td>\n",
              "      <td>84406B</td>\n",
              "      <td>CREAM CUPID HEARTS COAT HANGER</td>\n",
              "      <td>8</td>\n",
              "      <td>12/1/2010 8:26</td>\n",
              "      <td>2.75</td>\n",
              "      <td>17850.0</td>\n",
              "      <td>United Kingdom</td>\n",
              "      <td>22.00</td>\n",
              "      <td>2010-12-01 08:26:00</td>\n",
              "      <td>2010-12-01</td>\n",
              "    </tr>\n",
              "    <tr>\n",
              "      <th>3</th>\n",
              "      <td>536365</td>\n",
              "      <td>84029G</td>\n",
              "      <td>KNITTED UNION FLAG HOT WATER BOTTLE</td>\n",
              "      <td>6</td>\n",
              "      <td>12/1/2010 8:26</td>\n",
              "      <td>3.39</td>\n",
              "      <td>17850.0</td>\n",
              "      <td>United Kingdom</td>\n",
              "      <td>20.34</td>\n",
              "      <td>2010-12-01 08:26:00</td>\n",
              "      <td>2010-12-01</td>\n",
              "    </tr>\n",
              "    <tr>\n",
              "      <th>4</th>\n",
              "      <td>536365</td>\n",
              "      <td>84029E</td>\n",
              "      <td>RED WOOLLY HOTTIE WHITE HEART.</td>\n",
              "      <td>6</td>\n",
              "      <td>12/1/2010 8:26</td>\n",
              "      <td>3.39</td>\n",
              "      <td>17850.0</td>\n",
              "      <td>United Kingdom</td>\n",
              "      <td>20.34</td>\n",
              "      <td>2010-12-01 08:26:00</td>\n",
              "      <td>2010-12-01</td>\n",
              "    </tr>\n",
              "  </tbody>\n",
              "</table>\n",
              "</div>"
            ],
            "text/plain": [
              "  InvoiceNo StockCode                          Description  Quantity  \\\n",
              "0    536365    85123A   WHITE HANGING HEART T-LIGHT HOLDER         6   \n",
              "1    536365     71053                  WHITE METAL LANTERN         6   \n",
              "2    536365    84406B       CREAM CUPID HEARTS COAT HANGER         8   \n",
              "3    536365    84029G  KNITTED UNION FLAG HOT WATER BOTTLE         6   \n",
              "4    536365    84029E       RED WOOLLY HOTTIE WHITE HEART.         6   \n",
              "\n",
              "      InvoiceDate  UnitPrice  CustomerID         Country  Total  \\\n",
              "0  12/1/2010 8:26       2.55     17850.0  United Kingdom  15.30   \n",
              "1  12/1/2010 8:26       3.39     17850.0  United Kingdom  20.34   \n",
              "2  12/1/2010 8:26       2.75     17850.0  United Kingdom  22.00   \n",
              "3  12/1/2010 8:26       3.39     17850.0  United Kingdom  20.34   \n",
              "4  12/1/2010 8:26       3.39     17850.0  United Kingdom  20.34   \n",
              "\n",
              "         InvoiceDate2       date  \n",
              "0 2010-12-01 08:26:00 2010-12-01  \n",
              "1 2010-12-01 08:26:00 2010-12-01  \n",
              "2 2010-12-01 08:26:00 2010-12-01  \n",
              "3 2010-12-01 08:26:00 2010-12-01  \n",
              "4 2010-12-01 08:26:00 2010-12-01  "
            ]
          },
          "execution_count": 32,
          "metadata": {},
          "output_type": "execute_result"
        }
      ],
      "source": [
        "ecom.head()"
      ]
    },
    {
      "cell_type": "markdown",
      "metadata": {
        "id": "3t8QOOCuw5aE"
      },
      "source": [
        "** drop InvoiceDate2 and InvoiceDate columns permanently **"
      ]
    },
    {
      "cell_type": "code",
      "execution_count": null,
      "metadata": {
        "id": "SgqsLiCdw5aE",
        "outputId": "bb791a7d-40ec-4744-92ec-6266f42f6f0f"
      },
      "outputs": [
        {
          "data": {
            "text/html": [
              "<div>\n",
              "<style scoped>\n",
              "    .dataframe tbody tr th:only-of-type {\n",
              "        vertical-align: middle;\n",
              "    }\n",
              "\n",
              "    .dataframe tbody tr th {\n",
              "        vertical-align: top;\n",
              "    }\n",
              "\n",
              "    .dataframe thead th {\n",
              "        text-align: right;\n",
              "    }\n",
              "</style>\n",
              "<table border=\"1\" class=\"dataframe\">\n",
              "  <thead>\n",
              "    <tr style=\"text-align: right;\">\n",
              "      <th></th>\n",
              "      <th>InvoiceNo</th>\n",
              "      <th>StockCode</th>\n",
              "      <th>Description</th>\n",
              "      <th>Quantity</th>\n",
              "      <th>UnitPrice</th>\n",
              "      <th>CustomerID</th>\n",
              "      <th>Country</th>\n",
              "      <th>Total</th>\n",
              "      <th>date</th>\n",
              "    </tr>\n",
              "  </thead>\n",
              "  <tbody>\n",
              "    <tr>\n",
              "      <th>0</th>\n",
              "      <td>536365</td>\n",
              "      <td>85123A</td>\n",
              "      <td>WHITE HANGING HEART T-LIGHT HOLDER</td>\n",
              "      <td>6</td>\n",
              "      <td>2.55</td>\n",
              "      <td>17850.0</td>\n",
              "      <td>United Kingdom</td>\n",
              "      <td>15.30</td>\n",
              "      <td>2010-12-01</td>\n",
              "    </tr>\n",
              "    <tr>\n",
              "      <th>1</th>\n",
              "      <td>536365</td>\n",
              "      <td>71053</td>\n",
              "      <td>WHITE METAL LANTERN</td>\n",
              "      <td>6</td>\n",
              "      <td>3.39</td>\n",
              "      <td>17850.0</td>\n",
              "      <td>United Kingdom</td>\n",
              "      <td>20.34</td>\n",
              "      <td>2010-12-01</td>\n",
              "    </tr>\n",
              "    <tr>\n",
              "      <th>2</th>\n",
              "      <td>536365</td>\n",
              "      <td>84406B</td>\n",
              "      <td>CREAM CUPID HEARTS COAT HANGER</td>\n",
              "      <td>8</td>\n",
              "      <td>2.75</td>\n",
              "      <td>17850.0</td>\n",
              "      <td>United Kingdom</td>\n",
              "      <td>22.00</td>\n",
              "      <td>2010-12-01</td>\n",
              "    </tr>\n",
              "    <tr>\n",
              "      <th>3</th>\n",
              "      <td>536365</td>\n",
              "      <td>84029G</td>\n",
              "      <td>KNITTED UNION FLAG HOT WATER BOTTLE</td>\n",
              "      <td>6</td>\n",
              "      <td>3.39</td>\n",
              "      <td>17850.0</td>\n",
              "      <td>United Kingdom</td>\n",
              "      <td>20.34</td>\n",
              "      <td>2010-12-01</td>\n",
              "    </tr>\n",
              "    <tr>\n",
              "      <th>4</th>\n",
              "      <td>536365</td>\n",
              "      <td>84029E</td>\n",
              "      <td>RED WOOLLY HOTTIE WHITE HEART.</td>\n",
              "      <td>6</td>\n",
              "      <td>3.39</td>\n",
              "      <td>17850.0</td>\n",
              "      <td>United Kingdom</td>\n",
              "      <td>20.34</td>\n",
              "      <td>2010-12-01</td>\n",
              "    </tr>\n",
              "  </tbody>\n",
              "</table>\n",
              "</div>"
            ],
            "text/plain": [
              "  InvoiceNo StockCode                          Description  Quantity  \\\n",
              "0    536365    85123A   WHITE HANGING HEART T-LIGHT HOLDER         6   \n",
              "1    536365     71053                  WHITE METAL LANTERN         6   \n",
              "2    536365    84406B       CREAM CUPID HEARTS COAT HANGER         8   \n",
              "3    536365    84029G  KNITTED UNION FLAG HOT WATER BOTTLE         6   \n",
              "4    536365    84029E       RED WOOLLY HOTTIE WHITE HEART.         6   \n",
              "\n",
              "   UnitPrice  CustomerID         Country  Total       date  \n",
              "0       2.55     17850.0  United Kingdom  15.30 2010-12-01  \n",
              "1       3.39     17850.0  United Kingdom  20.34 2010-12-01  \n",
              "2       2.75     17850.0  United Kingdom  22.00 2010-12-01  \n",
              "3       3.39     17850.0  United Kingdom  20.34 2010-12-01  \n",
              "4       3.39     17850.0  United Kingdom  20.34 2010-12-01  "
            ]
          },
          "execution_count": 34,
          "metadata": {},
          "output_type": "execute_result"
        }
      ],
      "source": [
        "ecom.drop(columns=[\"InvoiceDate2\",\"InvoiceDate\"],inplace=True)\n",
        "ecom.head()"
      ]
    },
    {
      "cell_type": "markdown",
      "metadata": {
        "id": "WofDbNKpw5aF"
      },
      "source": [
        "** Remove A, B, G and E from StockCode in first 5 rows of ecom dataframe with a string method **"
      ]
    },
    {
      "cell_type": "code",
      "execution_count": null,
      "metadata": {
        "id": "oqlRFDDFw5aF",
        "outputId": "8282f2fd-3bca-486a-b405-ab6efb2e30dc"
      },
      "outputs": [
        {
          "data": {
            "text/plain": [
              "0    85123\n",
              "1    71053\n",
              "2    84406\n",
              "3    84029\n",
              "4    84029\n",
              "Name: StockCode, dtype: object"
            ]
          },
          "execution_count": 35,
          "metadata": {},
          "output_type": "execute_result"
        }
      ],
      "source": [
        "ecom.StockCode[:5].str.replace(\"A\",\"\").str.replace(\"B\",\"\").str.replace(\"G\",\"\").str.replace(\"E\",\"\")"
      ]
    },
    {
      "cell_type": "code",
      "execution_count": null,
      "metadata": {
        "id": "8Slea3I0w5aF",
        "outputId": "7b4b952b-8162-456d-8e6d-e573030534b4"
      },
      "outputs": [
        {
          "data": {
            "text/plain": [
              "0    85123\n",
              "1    71053\n",
              "2    84406\n",
              "3    84029\n",
              "4    84029\n",
              "Name: StockCode, dtype: object"
            ]
          },
          "execution_count": 36,
          "metadata": {},
          "output_type": "execute_result"
        }
      ],
      "source": [
        "ecom.StockCode[:5].str.extract(\"(\\d+)\",expand=False)"
      ]
    },
    {
      "cell_type": "markdown",
      "metadata": {
        "id": "5nwZ14inw5aF"
      },
      "source": [
        "** take only Total and date columns with loc and craete a new df named ecom2 **"
      ]
    },
    {
      "cell_type": "code",
      "execution_count": null,
      "metadata": {
        "id": "rlK9SKbuw5aF",
        "outputId": "9041c86b-e335-4364-90dd-46b783098677"
      },
      "outputs": [
        {
          "data": {
            "text/html": [
              "<div>\n",
              "<style scoped>\n",
              "    .dataframe tbody tr th:only-of-type {\n",
              "        vertical-align: middle;\n",
              "    }\n",
              "\n",
              "    .dataframe tbody tr th {\n",
              "        vertical-align: top;\n",
              "    }\n",
              "\n",
              "    .dataframe thead th {\n",
              "        text-align: right;\n",
              "    }\n",
              "</style>\n",
              "<table border=\"1\" class=\"dataframe\">\n",
              "  <thead>\n",
              "    <tr style=\"text-align: right;\">\n",
              "      <th></th>\n",
              "      <th>Total</th>\n",
              "      <th>date</th>\n",
              "    </tr>\n",
              "  </thead>\n",
              "  <tbody>\n",
              "    <tr>\n",
              "      <th>0</th>\n",
              "      <td>15.30</td>\n",
              "      <td>2010-12-01</td>\n",
              "    </tr>\n",
              "    <tr>\n",
              "      <th>1</th>\n",
              "      <td>20.34</td>\n",
              "      <td>2010-12-01</td>\n",
              "    </tr>\n",
              "    <tr>\n",
              "      <th>2</th>\n",
              "      <td>22.00</td>\n",
              "      <td>2010-12-01</td>\n",
              "    </tr>\n",
              "    <tr>\n",
              "      <th>3</th>\n",
              "      <td>20.34</td>\n",
              "      <td>2010-12-01</td>\n",
              "    </tr>\n",
              "    <tr>\n",
              "      <th>4</th>\n",
              "      <td>20.34</td>\n",
              "      <td>2010-12-01</td>\n",
              "    </tr>\n",
              "    <tr>\n",
              "      <th>...</th>\n",
              "      <td>...</td>\n",
              "      <td>...</td>\n",
              "    </tr>\n",
              "    <tr>\n",
              "      <th>541904</th>\n",
              "      <td>10.20</td>\n",
              "      <td>2011-12-09</td>\n",
              "    </tr>\n",
              "    <tr>\n",
              "      <th>541905</th>\n",
              "      <td>12.60</td>\n",
              "      <td>2011-12-09</td>\n",
              "    </tr>\n",
              "    <tr>\n",
              "      <th>541906</th>\n",
              "      <td>16.60</td>\n",
              "      <td>2011-12-09</td>\n",
              "    </tr>\n",
              "    <tr>\n",
              "      <th>541907</th>\n",
              "      <td>16.60</td>\n",
              "      <td>2011-12-09</td>\n",
              "    </tr>\n",
              "    <tr>\n",
              "      <th>541908</th>\n",
              "      <td>14.85</td>\n",
              "      <td>2011-12-09</td>\n",
              "    </tr>\n",
              "  </tbody>\n",
              "</table>\n",
              "<p>541909 rows × 2 columns</p>\n",
              "</div>"
            ],
            "text/plain": [
              "        Total       date\n",
              "0       15.30 2010-12-01\n",
              "1       20.34 2010-12-01\n",
              "2       22.00 2010-12-01\n",
              "3       20.34 2010-12-01\n",
              "4       20.34 2010-12-01\n",
              "...       ...        ...\n",
              "541904  10.20 2011-12-09\n",
              "541905  12.60 2011-12-09\n",
              "541906  16.60 2011-12-09\n",
              "541907  16.60 2011-12-09\n",
              "541908  14.85 2011-12-09\n",
              "\n",
              "[541909 rows x 2 columns]"
            ]
          },
          "execution_count": 38,
          "metadata": {},
          "output_type": "execute_result"
        }
      ],
      "source": [
        "ecom2 = ecom.loc[:,\"Total\":\"date\"]\n",
        "ecom2"
      ]
    },
    {
      "cell_type": "markdown",
      "metadata": {
        "id": "mLBXK46Fw5aF"
      },
      "source": [
        "** take only InvoiceNo, CustomerID and Total columns with iloc and craete a new df named ecom3 **"
      ]
    },
    {
      "cell_type": "code",
      "execution_count": null,
      "metadata": {
        "id": "zyyDlhgpw5aF",
        "outputId": "9fe728ca-6577-437f-da19-e833c714d131"
      },
      "outputs": [
        {
          "data": {
            "text/html": [
              "<div>\n",
              "<style scoped>\n",
              "    .dataframe tbody tr th:only-of-type {\n",
              "        vertical-align: middle;\n",
              "    }\n",
              "\n",
              "    .dataframe tbody tr th {\n",
              "        vertical-align: top;\n",
              "    }\n",
              "\n",
              "    .dataframe thead th {\n",
              "        text-align: right;\n",
              "    }\n",
              "</style>\n",
              "<table border=\"1\" class=\"dataframe\">\n",
              "  <thead>\n",
              "    <tr style=\"text-align: right;\">\n",
              "      <th></th>\n",
              "      <th>InvoiceNo</th>\n",
              "      <th>StockCode</th>\n",
              "      <th>Description</th>\n",
              "      <th>Quantity</th>\n",
              "      <th>UnitPrice</th>\n",
              "      <th>CustomerID</th>\n",
              "      <th>Country</th>\n",
              "      <th>Total</th>\n",
              "      <th>date</th>\n",
              "    </tr>\n",
              "  </thead>\n",
              "  <tbody>\n",
              "    <tr>\n",
              "      <th>0</th>\n",
              "      <td>536365</td>\n",
              "      <td>85123A</td>\n",
              "      <td>WHITE HANGING HEART T-LIGHT HOLDER</td>\n",
              "      <td>6</td>\n",
              "      <td>2.55</td>\n",
              "      <td>17850.0</td>\n",
              "      <td>United Kingdom</td>\n",
              "      <td>15.30</td>\n",
              "      <td>2010-12-01</td>\n",
              "    </tr>\n",
              "    <tr>\n",
              "      <th>1</th>\n",
              "      <td>536365</td>\n",
              "      <td>71053</td>\n",
              "      <td>WHITE METAL LANTERN</td>\n",
              "      <td>6</td>\n",
              "      <td>3.39</td>\n",
              "      <td>17850.0</td>\n",
              "      <td>United Kingdom</td>\n",
              "      <td>20.34</td>\n",
              "      <td>2010-12-01</td>\n",
              "    </tr>\n",
              "    <tr>\n",
              "      <th>2</th>\n",
              "      <td>536365</td>\n",
              "      <td>84406B</td>\n",
              "      <td>CREAM CUPID HEARTS COAT HANGER</td>\n",
              "      <td>8</td>\n",
              "      <td>2.75</td>\n",
              "      <td>17850.0</td>\n",
              "      <td>United Kingdom</td>\n",
              "      <td>22.00</td>\n",
              "      <td>2010-12-01</td>\n",
              "    </tr>\n",
              "    <tr>\n",
              "      <th>3</th>\n",
              "      <td>536365</td>\n",
              "      <td>84029G</td>\n",
              "      <td>KNITTED UNION FLAG HOT WATER BOTTLE</td>\n",
              "      <td>6</td>\n",
              "      <td>3.39</td>\n",
              "      <td>17850.0</td>\n",
              "      <td>United Kingdom</td>\n",
              "      <td>20.34</td>\n",
              "      <td>2010-12-01</td>\n",
              "    </tr>\n",
              "    <tr>\n",
              "      <th>4</th>\n",
              "      <td>536365</td>\n",
              "      <td>84029E</td>\n",
              "      <td>RED WOOLLY HOTTIE WHITE HEART.</td>\n",
              "      <td>6</td>\n",
              "      <td>3.39</td>\n",
              "      <td>17850.0</td>\n",
              "      <td>United Kingdom</td>\n",
              "      <td>20.34</td>\n",
              "      <td>2010-12-01</td>\n",
              "    </tr>\n",
              "    <tr>\n",
              "      <th>...</th>\n",
              "      <td>...</td>\n",
              "      <td>...</td>\n",
              "      <td>...</td>\n",
              "      <td>...</td>\n",
              "      <td>...</td>\n",
              "      <td>...</td>\n",
              "      <td>...</td>\n",
              "      <td>...</td>\n",
              "      <td>...</td>\n",
              "    </tr>\n",
              "    <tr>\n",
              "      <th>541904</th>\n",
              "      <td>581587</td>\n",
              "      <td>22613</td>\n",
              "      <td>PACK OF 20 SPACEBOY NAPKINS</td>\n",
              "      <td>12</td>\n",
              "      <td>0.85</td>\n",
              "      <td>12680.0</td>\n",
              "      <td>France</td>\n",
              "      <td>10.20</td>\n",
              "      <td>2011-12-09</td>\n",
              "    </tr>\n",
              "    <tr>\n",
              "      <th>541905</th>\n",
              "      <td>581587</td>\n",
              "      <td>22899</td>\n",
              "      <td>CHILDREN'S APRON DOLLY GIRL</td>\n",
              "      <td>6</td>\n",
              "      <td>2.10</td>\n",
              "      <td>12680.0</td>\n",
              "      <td>France</td>\n",
              "      <td>12.60</td>\n",
              "      <td>2011-12-09</td>\n",
              "    </tr>\n",
              "    <tr>\n",
              "      <th>541906</th>\n",
              "      <td>581587</td>\n",
              "      <td>23254</td>\n",
              "      <td>CHILDRENS CUTLERY DOLLY GIRL</td>\n",
              "      <td>4</td>\n",
              "      <td>4.15</td>\n",
              "      <td>12680.0</td>\n",
              "      <td>France</td>\n",
              "      <td>16.60</td>\n",
              "      <td>2011-12-09</td>\n",
              "    </tr>\n",
              "    <tr>\n",
              "      <th>541907</th>\n",
              "      <td>581587</td>\n",
              "      <td>23255</td>\n",
              "      <td>CHILDRENS CUTLERY CIRCUS PARADE</td>\n",
              "      <td>4</td>\n",
              "      <td>4.15</td>\n",
              "      <td>12680.0</td>\n",
              "      <td>France</td>\n",
              "      <td>16.60</td>\n",
              "      <td>2011-12-09</td>\n",
              "    </tr>\n",
              "    <tr>\n",
              "      <th>541908</th>\n",
              "      <td>581587</td>\n",
              "      <td>22138</td>\n",
              "      <td>BAKING SET 9 PIECE RETROSPOT</td>\n",
              "      <td>3</td>\n",
              "      <td>4.95</td>\n",
              "      <td>12680.0</td>\n",
              "      <td>France</td>\n",
              "      <td>14.85</td>\n",
              "      <td>2011-12-09</td>\n",
              "    </tr>\n",
              "  </tbody>\n",
              "</table>\n",
              "<p>541909 rows × 9 columns</p>\n",
              "</div>"
            ],
            "text/plain": [
              "       InvoiceNo StockCode                          Description  Quantity  \\\n",
              "0         536365    85123A   WHITE HANGING HEART T-LIGHT HOLDER         6   \n",
              "1         536365     71053                  WHITE METAL LANTERN         6   \n",
              "2         536365    84406B       CREAM CUPID HEARTS COAT HANGER         8   \n",
              "3         536365    84029G  KNITTED UNION FLAG HOT WATER BOTTLE         6   \n",
              "4         536365    84029E       RED WOOLLY HOTTIE WHITE HEART.         6   \n",
              "...          ...       ...                                  ...       ...   \n",
              "541904    581587     22613          PACK OF 20 SPACEBOY NAPKINS        12   \n",
              "541905    581587     22899         CHILDREN'S APRON DOLLY GIRL          6   \n",
              "541906    581587     23254        CHILDRENS CUTLERY DOLLY GIRL          4   \n",
              "541907    581587     23255      CHILDRENS CUTLERY CIRCUS PARADE         4   \n",
              "541908    581587     22138        BAKING SET 9 PIECE RETROSPOT          3   \n",
              "\n",
              "        UnitPrice  CustomerID         Country  Total       date  \n",
              "0            2.55     17850.0  United Kingdom  15.30 2010-12-01  \n",
              "1            3.39     17850.0  United Kingdom  20.34 2010-12-01  \n",
              "2            2.75     17850.0  United Kingdom  22.00 2010-12-01  \n",
              "3            3.39     17850.0  United Kingdom  20.34 2010-12-01  \n",
              "4            3.39     17850.0  United Kingdom  20.34 2010-12-01  \n",
              "...           ...         ...             ...    ...        ...  \n",
              "541904       0.85     12680.0          France  10.20 2011-12-09  \n",
              "541905       2.10     12680.0          France  12.60 2011-12-09  \n",
              "541906       4.15     12680.0          France  16.60 2011-12-09  \n",
              "541907       4.15     12680.0          France  16.60 2011-12-09  \n",
              "541908       4.95     12680.0          France  14.85 2011-12-09  \n",
              "\n",
              "[541909 rows x 9 columns]"
            ]
          },
          "execution_count": 39,
          "metadata": {},
          "output_type": "execute_result"
        }
      ],
      "source": [
        "ecom"
      ]
    },
    {
      "cell_type": "code",
      "execution_count": null,
      "metadata": {
        "id": "Q4tOCMKow5aG",
        "outputId": "5c71d31a-3dcc-4639-fbf0-79b9deef691e"
      },
      "outputs": [
        {
          "data": {
            "text/html": [
              "<div>\n",
              "<style scoped>\n",
              "    .dataframe tbody tr th:only-of-type {\n",
              "        vertical-align: middle;\n",
              "    }\n",
              "\n",
              "    .dataframe tbody tr th {\n",
              "        vertical-align: top;\n",
              "    }\n",
              "\n",
              "    .dataframe thead th {\n",
              "        text-align: right;\n",
              "    }\n",
              "</style>\n",
              "<table border=\"1\" class=\"dataframe\">\n",
              "  <thead>\n",
              "    <tr style=\"text-align: right;\">\n",
              "      <th></th>\n",
              "      <th>InvoiceNo</th>\n",
              "      <th>CustomerID</th>\n",
              "      <th>Total</th>\n",
              "    </tr>\n",
              "  </thead>\n",
              "  <tbody>\n",
              "    <tr>\n",
              "      <th>0</th>\n",
              "      <td>536365</td>\n",
              "      <td>17850.0</td>\n",
              "      <td>15.30</td>\n",
              "    </tr>\n",
              "    <tr>\n",
              "      <th>1</th>\n",
              "      <td>536365</td>\n",
              "      <td>17850.0</td>\n",
              "      <td>20.34</td>\n",
              "    </tr>\n",
              "    <tr>\n",
              "      <th>2</th>\n",
              "      <td>536365</td>\n",
              "      <td>17850.0</td>\n",
              "      <td>22.00</td>\n",
              "    </tr>\n",
              "    <tr>\n",
              "      <th>3</th>\n",
              "      <td>536365</td>\n",
              "      <td>17850.0</td>\n",
              "      <td>20.34</td>\n",
              "    </tr>\n",
              "    <tr>\n",
              "      <th>4</th>\n",
              "      <td>536365</td>\n",
              "      <td>17850.0</td>\n",
              "      <td>20.34</td>\n",
              "    </tr>\n",
              "    <tr>\n",
              "      <th>...</th>\n",
              "      <td>...</td>\n",
              "      <td>...</td>\n",
              "      <td>...</td>\n",
              "    </tr>\n",
              "    <tr>\n",
              "      <th>541904</th>\n",
              "      <td>581587</td>\n",
              "      <td>12680.0</td>\n",
              "      <td>10.20</td>\n",
              "    </tr>\n",
              "    <tr>\n",
              "      <th>541905</th>\n",
              "      <td>581587</td>\n",
              "      <td>12680.0</td>\n",
              "      <td>12.60</td>\n",
              "    </tr>\n",
              "    <tr>\n",
              "      <th>541906</th>\n",
              "      <td>581587</td>\n",
              "      <td>12680.0</td>\n",
              "      <td>16.60</td>\n",
              "    </tr>\n",
              "    <tr>\n",
              "      <th>541907</th>\n",
              "      <td>581587</td>\n",
              "      <td>12680.0</td>\n",
              "      <td>16.60</td>\n",
              "    </tr>\n",
              "    <tr>\n",
              "      <th>541908</th>\n",
              "      <td>581587</td>\n",
              "      <td>12680.0</td>\n",
              "      <td>14.85</td>\n",
              "    </tr>\n",
              "  </tbody>\n",
              "</table>\n",
              "<p>541909 rows × 3 columns</p>\n",
              "</div>"
            ],
            "text/plain": [
              "       InvoiceNo  CustomerID  Total\n",
              "0         536365     17850.0  15.30\n",
              "1         536365     17850.0  20.34\n",
              "2         536365     17850.0  22.00\n",
              "3         536365     17850.0  20.34\n",
              "4         536365     17850.0  20.34\n",
              "...          ...         ...    ...\n",
              "541904    581587     12680.0  10.20\n",
              "541905    581587     12680.0  12.60\n",
              "541906    581587     12680.0  16.60\n",
              "541907    581587     12680.0  16.60\n",
              "541908    581587     12680.0  14.85\n",
              "\n",
              "[541909 rows x 3 columns]"
            ]
          },
          "execution_count": 40,
          "metadata": {},
          "output_type": "execute_result"
        }
      ],
      "source": [
        "ecom3 = ecom.iloc[:,[0,5,7]]\n",
        "ecom3"
      ]
    },
    {
      "cell_type": "markdown",
      "metadata": {
        "id": "cLKFyhLOw5aG"
      },
      "source": [
        "** Combine ecom2 and ecom3 with concat **"
      ]
    },
    {
      "cell_type": "code",
      "execution_count": null,
      "metadata": {
        "id": "bPHf1AKiw5aG",
        "outputId": "b5888220-11b5-40ab-976b-0d5d0e15f53b"
      },
      "outputs": [
        {
          "data": {
            "text/html": [
              "<div>\n",
              "<style scoped>\n",
              "    .dataframe tbody tr th:only-of-type {\n",
              "        vertical-align: middle;\n",
              "    }\n",
              "\n",
              "    .dataframe tbody tr th {\n",
              "        vertical-align: top;\n",
              "    }\n",
              "\n",
              "    .dataframe thead th {\n",
              "        text-align: right;\n",
              "    }\n",
              "</style>\n",
              "<table border=\"1\" class=\"dataframe\">\n",
              "  <thead>\n",
              "    <tr style=\"text-align: right;\">\n",
              "      <th></th>\n",
              "      <th>Total</th>\n",
              "      <th>date</th>\n",
              "      <th>InvoiceNo</th>\n",
              "      <th>CustomerID</th>\n",
              "      <th>Total</th>\n",
              "    </tr>\n",
              "  </thead>\n",
              "  <tbody>\n",
              "    <tr>\n",
              "      <th>0</th>\n",
              "      <td>15.30</td>\n",
              "      <td>2010-12-01</td>\n",
              "      <td>536365</td>\n",
              "      <td>17850.0</td>\n",
              "      <td>15.30</td>\n",
              "    </tr>\n",
              "    <tr>\n",
              "      <th>1</th>\n",
              "      <td>20.34</td>\n",
              "      <td>2010-12-01</td>\n",
              "      <td>536365</td>\n",
              "      <td>17850.0</td>\n",
              "      <td>20.34</td>\n",
              "    </tr>\n",
              "    <tr>\n",
              "      <th>2</th>\n",
              "      <td>22.00</td>\n",
              "      <td>2010-12-01</td>\n",
              "      <td>536365</td>\n",
              "      <td>17850.0</td>\n",
              "      <td>22.00</td>\n",
              "    </tr>\n",
              "    <tr>\n",
              "      <th>3</th>\n",
              "      <td>20.34</td>\n",
              "      <td>2010-12-01</td>\n",
              "      <td>536365</td>\n",
              "      <td>17850.0</td>\n",
              "      <td>20.34</td>\n",
              "    </tr>\n",
              "    <tr>\n",
              "      <th>4</th>\n",
              "      <td>20.34</td>\n",
              "      <td>2010-12-01</td>\n",
              "      <td>536365</td>\n",
              "      <td>17850.0</td>\n",
              "      <td>20.34</td>\n",
              "    </tr>\n",
              "    <tr>\n",
              "      <th>...</th>\n",
              "      <td>...</td>\n",
              "      <td>...</td>\n",
              "      <td>...</td>\n",
              "      <td>...</td>\n",
              "      <td>...</td>\n",
              "    </tr>\n",
              "    <tr>\n",
              "      <th>541904</th>\n",
              "      <td>10.20</td>\n",
              "      <td>2011-12-09</td>\n",
              "      <td>581587</td>\n",
              "      <td>12680.0</td>\n",
              "      <td>10.20</td>\n",
              "    </tr>\n",
              "    <tr>\n",
              "      <th>541905</th>\n",
              "      <td>12.60</td>\n",
              "      <td>2011-12-09</td>\n",
              "      <td>581587</td>\n",
              "      <td>12680.0</td>\n",
              "      <td>12.60</td>\n",
              "    </tr>\n",
              "    <tr>\n",
              "      <th>541906</th>\n",
              "      <td>16.60</td>\n",
              "      <td>2011-12-09</td>\n",
              "      <td>581587</td>\n",
              "      <td>12680.0</td>\n",
              "      <td>16.60</td>\n",
              "    </tr>\n",
              "    <tr>\n",
              "      <th>541907</th>\n",
              "      <td>16.60</td>\n",
              "      <td>2011-12-09</td>\n",
              "      <td>581587</td>\n",
              "      <td>12680.0</td>\n",
              "      <td>16.60</td>\n",
              "    </tr>\n",
              "    <tr>\n",
              "      <th>541908</th>\n",
              "      <td>14.85</td>\n",
              "      <td>2011-12-09</td>\n",
              "      <td>581587</td>\n",
              "      <td>12680.0</td>\n",
              "      <td>14.85</td>\n",
              "    </tr>\n",
              "  </tbody>\n",
              "</table>\n",
              "<p>541909 rows × 5 columns</p>\n",
              "</div>"
            ],
            "text/plain": [
              "        Total       date InvoiceNo  CustomerID  Total\n",
              "0       15.30 2010-12-01    536365     17850.0  15.30\n",
              "1       20.34 2010-12-01    536365     17850.0  20.34\n",
              "2       22.00 2010-12-01    536365     17850.0  22.00\n",
              "3       20.34 2010-12-01    536365     17850.0  20.34\n",
              "4       20.34 2010-12-01    536365     17850.0  20.34\n",
              "...       ...        ...       ...         ...    ...\n",
              "541904  10.20 2011-12-09    581587     12680.0  10.20\n",
              "541905  12.60 2011-12-09    581587     12680.0  12.60\n",
              "541906  16.60 2011-12-09    581587     12680.0  16.60\n",
              "541907  16.60 2011-12-09    581587     12680.0  16.60\n",
              "541908  14.85 2011-12-09    581587     12680.0  14.85\n",
              "\n",
              "[541909 rows x 5 columns]"
            ]
          },
          "execution_count": 42,
          "metadata": {},
          "output_type": "execute_result"
        }
      ],
      "source": [
        "ecom_concat = pd.concat([ecom2,ecom3],axis = 1)\n",
        "ecom_concat"
      ]
    },
    {
      "cell_type": "markdown",
      "metadata": {
        "id": "q2Pzr2esw5aG"
      },
      "source": [
        "** Combine ecom2 and ecom3 with merge. If memory error occurs take only first 400 rows from both DFs.**"
      ]
    },
    {
      "cell_type": "code",
      "execution_count": null,
      "metadata": {
        "id": "VmGDPcQ2w5aG",
        "outputId": "80ea7971-be75-4b48-eb5f-cf470332f557"
      },
      "outputs": [
        {
          "ename": "MemoryError",
          "evalue": "Unable to allocate 15.3 GiB for an array with shape (2055493085,) and data type int64",
          "output_type": "error",
          "traceback": [
            "\u001b[1;31m---------------------------------------------------------------------------\u001b[0m",
            "\u001b[1;31mMemoryError\u001b[0m                               Traceback (most recent call last)",
            "\u001b[1;32m<ipython-input-43-1c8656d98b43>\u001b[0m in \u001b[0;36m<module>\u001b[1;34m\u001b[0m\n\u001b[1;32m----> 1\u001b[1;33m \u001b[0mpd\u001b[0m\u001b[1;33m.\u001b[0m\u001b[0mmerge\u001b[0m\u001b[1;33m(\u001b[0m\u001b[0mecom2\u001b[0m\u001b[1;33m,\u001b[0m\u001b[0mecom3\u001b[0m\u001b[1;33m)\u001b[0m\u001b[1;33m\u001b[0m\u001b[1;33m\u001b[0m\u001b[0m\n\u001b[0m",
            "\u001b[1;32m~\\anaconda3\\lib\\site-packages\\pandas\\core\\reshape\\merge.py\u001b[0m in \u001b[0;36mmerge\u001b[1;34m(left, right, how, on, left_on, right_on, left_index, right_index, sort, suffixes, copy, indicator, validate)\u001b[0m\n\u001b[0;32m     87\u001b[0m         \u001b[0mvalidate\u001b[0m\u001b[1;33m=\u001b[0m\u001b[0mvalidate\u001b[0m\u001b[1;33m,\u001b[0m\u001b[1;33m\u001b[0m\u001b[1;33m\u001b[0m\u001b[0m\n\u001b[0;32m     88\u001b[0m     )\n\u001b[1;32m---> 89\u001b[1;33m     \u001b[1;32mreturn\u001b[0m \u001b[0mop\u001b[0m\u001b[1;33m.\u001b[0m\u001b[0mget_result\u001b[0m\u001b[1;33m(\u001b[0m\u001b[1;33m)\u001b[0m\u001b[1;33m\u001b[0m\u001b[1;33m\u001b[0m\u001b[0m\n\u001b[0m\u001b[0;32m     90\u001b[0m \u001b[1;33m\u001b[0m\u001b[0m\n\u001b[0;32m     91\u001b[0m \u001b[1;33m\u001b[0m\u001b[0m\n",
            "\u001b[1;32m~\\anaconda3\\lib\\site-packages\\pandas\\core\\reshape\\merge.py\u001b[0m in \u001b[0;36mget_result\u001b[1;34m(self)\u001b[0m\n\u001b[0;32m    682\u001b[0m             \u001b[0mself\u001b[0m\u001b[1;33m.\u001b[0m\u001b[0mleft\u001b[0m\u001b[1;33m,\u001b[0m \u001b[0mself\u001b[0m\u001b[1;33m.\u001b[0m\u001b[0mright\u001b[0m \u001b[1;33m=\u001b[0m \u001b[0mself\u001b[0m\u001b[1;33m.\u001b[0m\u001b[0m_indicator_pre_merge\u001b[0m\u001b[1;33m(\u001b[0m\u001b[0mself\u001b[0m\u001b[1;33m.\u001b[0m\u001b[0mleft\u001b[0m\u001b[1;33m,\u001b[0m \u001b[0mself\u001b[0m\u001b[1;33m.\u001b[0m\u001b[0mright\u001b[0m\u001b[1;33m)\u001b[0m\u001b[1;33m\u001b[0m\u001b[1;33m\u001b[0m\u001b[0m\n\u001b[0;32m    683\u001b[0m \u001b[1;33m\u001b[0m\u001b[0m\n\u001b[1;32m--> 684\u001b[1;33m         \u001b[0mjoin_index\u001b[0m\u001b[1;33m,\u001b[0m \u001b[0mleft_indexer\u001b[0m\u001b[1;33m,\u001b[0m \u001b[0mright_indexer\u001b[0m \u001b[1;33m=\u001b[0m \u001b[0mself\u001b[0m\u001b[1;33m.\u001b[0m\u001b[0m_get_join_info\u001b[0m\u001b[1;33m(\u001b[0m\u001b[1;33m)\u001b[0m\u001b[1;33m\u001b[0m\u001b[1;33m\u001b[0m\u001b[0m\n\u001b[0m\u001b[0;32m    685\u001b[0m \u001b[1;33m\u001b[0m\u001b[0m\n\u001b[0;32m    686\u001b[0m         llabels, rlabels = _items_overlap_with_suffix(\n",
            "\u001b[1;32m~\\anaconda3\\lib\\site-packages\\pandas\\core\\reshape\\merge.py\u001b[0m in \u001b[0;36m_get_join_info\u001b[1;34m(self)\u001b[0m\n\u001b[0;32m    907\u001b[0m             )\n\u001b[0;32m    908\u001b[0m         \u001b[1;32melse\u001b[0m\u001b[1;33m:\u001b[0m\u001b[1;33m\u001b[0m\u001b[1;33m\u001b[0m\u001b[0m\n\u001b[1;32m--> 909\u001b[1;33m             \u001b[1;33m(\u001b[0m\u001b[0mleft_indexer\u001b[0m\u001b[1;33m,\u001b[0m \u001b[0mright_indexer\u001b[0m\u001b[1;33m)\u001b[0m \u001b[1;33m=\u001b[0m \u001b[0mself\u001b[0m\u001b[1;33m.\u001b[0m\u001b[0m_get_join_indexers\u001b[0m\u001b[1;33m(\u001b[0m\u001b[1;33m)\u001b[0m\u001b[1;33m\u001b[0m\u001b[1;33m\u001b[0m\u001b[0m\n\u001b[0m\u001b[0;32m    910\u001b[0m \u001b[1;33m\u001b[0m\u001b[0m\n\u001b[0;32m    911\u001b[0m             \u001b[1;32mif\u001b[0m \u001b[0mself\u001b[0m\u001b[1;33m.\u001b[0m\u001b[0mright_index\u001b[0m\u001b[1;33m:\u001b[0m\u001b[1;33m\u001b[0m\u001b[1;33m\u001b[0m\u001b[0m\n",
            "\u001b[1;32m~\\anaconda3\\lib\\site-packages\\pandas\\core\\reshape\\merge.py\u001b[0m in \u001b[0;36m_get_join_indexers\u001b[1;34m(self)\u001b[0m\n\u001b[0;32m    885\u001b[0m     \u001b[1;32mdef\u001b[0m \u001b[0m_get_join_indexers\u001b[0m\u001b[1;33m(\u001b[0m\u001b[0mself\u001b[0m\u001b[1;33m)\u001b[0m\u001b[1;33m:\u001b[0m\u001b[1;33m\u001b[0m\u001b[1;33m\u001b[0m\u001b[0m\n\u001b[0;32m    886\u001b[0m         \u001b[1;34m\"\"\" return the join indexers \"\"\"\u001b[0m\u001b[1;33m\u001b[0m\u001b[1;33m\u001b[0m\u001b[0m\n\u001b[1;32m--> 887\u001b[1;33m         return get_join_indexers(\n\u001b[0m\u001b[0;32m    888\u001b[0m             \u001b[0mself\u001b[0m\u001b[1;33m.\u001b[0m\u001b[0mleft_join_keys\u001b[0m\u001b[1;33m,\u001b[0m \u001b[0mself\u001b[0m\u001b[1;33m.\u001b[0m\u001b[0mright_join_keys\u001b[0m\u001b[1;33m,\u001b[0m \u001b[0msort\u001b[0m\u001b[1;33m=\u001b[0m\u001b[0mself\u001b[0m\u001b[1;33m.\u001b[0m\u001b[0msort\u001b[0m\u001b[1;33m,\u001b[0m \u001b[0mhow\u001b[0m\u001b[1;33m=\u001b[0m\u001b[0mself\u001b[0m\u001b[1;33m.\u001b[0m\u001b[0mhow\u001b[0m\u001b[1;33m\u001b[0m\u001b[1;33m\u001b[0m\u001b[0m\n\u001b[0;32m    889\u001b[0m         )\n",
            "\u001b[1;32m~\\anaconda3\\lib\\site-packages\\pandas\\core\\reshape\\merge.py\u001b[0m in \u001b[0;36mget_join_indexers\u001b[1;34m(left_keys, right_keys, sort, how, **kwargs)\u001b[0m\n\u001b[0;32m   1439\u001b[0m     }[how]\n\u001b[0;32m   1440\u001b[0m \u001b[1;33m\u001b[0m\u001b[0m\n\u001b[1;32m-> 1441\u001b[1;33m     \u001b[1;32mreturn\u001b[0m \u001b[0mjoin_func\u001b[0m\u001b[1;33m(\u001b[0m\u001b[0mlkey\u001b[0m\u001b[1;33m,\u001b[0m \u001b[0mrkey\u001b[0m\u001b[1;33m,\u001b[0m \u001b[0mcount\u001b[0m\u001b[1;33m,\u001b[0m \u001b[1;33m**\u001b[0m\u001b[0mkwargs\u001b[0m\u001b[1;33m)\u001b[0m\u001b[1;33m\u001b[0m\u001b[1;33m\u001b[0m\u001b[0m\n\u001b[0m\u001b[0;32m   1442\u001b[0m \u001b[1;33m\u001b[0m\u001b[0m\n\u001b[0;32m   1443\u001b[0m \u001b[1;33m\u001b[0m\u001b[0m\n",
            "\u001b[1;32mpandas\\_libs\\join.pyx\u001b[0m in \u001b[0;36mpandas._libs.join.inner_join\u001b[1;34m()\u001b[0m\n",
            "\u001b[1;31mMemoryError\u001b[0m: Unable to allocate 15.3 GiB for an array with shape (2055493085,) and data type int64"
          ]
        }
      ],
      "source": [
        "pd.merge(ecom2,ecom3)"
      ]
    },
    {
      "cell_type": "code",
      "execution_count": null,
      "metadata": {
        "id": "RNtUxWtpw5aG",
        "outputId": "4c2b97f1-3ea6-4322-cd17-b1f3b15aab7b"
      },
      "outputs": [
        {
          "data": {
            "text/plain": [
              "5269"
            ]
          },
          "execution_count": 45,
          "metadata": {},
          "output_type": "execute_result"
        }
      ],
      "source": [
        "ecom.duplicated().sum()"
      ]
    },
    {
      "cell_type": "code",
      "execution_count": null,
      "metadata": {
        "id": "463CzqyBw5aH",
        "outputId": "bafe829c-061f-4c33-d91e-0474e9d0e941"
      },
      "outputs": [
        {
          "data": {
            "text/html": [
              "<div>\n",
              "<style scoped>\n",
              "    .dataframe tbody tr th:only-of-type {\n",
              "        vertical-align: middle;\n",
              "    }\n",
              "\n",
              "    .dataframe tbody tr th {\n",
              "        vertical-align: top;\n",
              "    }\n",
              "\n",
              "    .dataframe thead th {\n",
              "        text-align: right;\n",
              "    }\n",
              "</style>\n",
              "<table border=\"1\" class=\"dataframe\">\n",
              "  <thead>\n",
              "    <tr style=\"text-align: right;\">\n",
              "      <th></th>\n",
              "      <th>Total</th>\n",
              "      <th>date</th>\n",
              "      <th>InvoiceNo</th>\n",
              "      <th>CustomerID</th>\n",
              "    </tr>\n",
              "  </thead>\n",
              "  <tbody>\n",
              "    <tr>\n",
              "      <th>0</th>\n",
              "      <td>15.30</td>\n",
              "      <td>2010-12-01</td>\n",
              "      <td>536365</td>\n",
              "      <td>17850.0</td>\n",
              "    </tr>\n",
              "    <tr>\n",
              "      <th>1</th>\n",
              "      <td>15.30</td>\n",
              "      <td>2010-12-01</td>\n",
              "      <td>536373</td>\n",
              "      <td>17850.0</td>\n",
              "    </tr>\n",
              "    <tr>\n",
              "      <th>3</th>\n",
              "      <td>15.30</td>\n",
              "      <td>2010-12-01</td>\n",
              "      <td>536375</td>\n",
              "      <td>17850.0</td>\n",
              "    </tr>\n",
              "    <tr>\n",
              "      <th>5</th>\n",
              "      <td>15.30</td>\n",
              "      <td>2010-12-01</td>\n",
              "      <td>536378</td>\n",
              "      <td>14688.0</td>\n",
              "    </tr>\n",
              "    <tr>\n",
              "      <th>7</th>\n",
              "      <td>15.30</td>\n",
              "      <td>2010-12-01</td>\n",
              "      <td>536396</td>\n",
              "      <td>17850.0</td>\n",
              "    </tr>\n",
              "    <tr>\n",
              "      <th>...</th>\n",
              "      <td>...</td>\n",
              "      <td>...</td>\n",
              "      <td>...</td>\n",
              "      <td>...</td>\n",
              "    </tr>\n",
              "    <tr>\n",
              "      <th>2187</th>\n",
              "      <td>22.95</td>\n",
              "      <td>2010-12-01</td>\n",
              "      <td>536401</td>\n",
              "      <td>15862.0</td>\n",
              "    </tr>\n",
              "    <tr>\n",
              "      <th>2188</th>\n",
              "      <td>16.95</td>\n",
              "      <td>2010-12-01</td>\n",
              "      <td>536401</td>\n",
              "      <td>15862.0</td>\n",
              "    </tr>\n",
              "    <tr>\n",
              "      <th>2189</th>\n",
              "      <td>10.65</td>\n",
              "      <td>2010-12-01</td>\n",
              "      <td>536401</td>\n",
              "      <td>15862.0</td>\n",
              "    </tr>\n",
              "    <tr>\n",
              "      <th>2190</th>\n",
              "      <td>13.90</td>\n",
              "      <td>2010-12-01</td>\n",
              "      <td>536401</td>\n",
              "      <td>15862.0</td>\n",
              "    </tr>\n",
              "    <tr>\n",
              "      <th>2191</th>\n",
              "      <td>153.00</td>\n",
              "      <td>2010-12-01</td>\n",
              "      <td>536402</td>\n",
              "      <td>15513.0</td>\n",
              "    </tr>\n",
              "  </tbody>\n",
              "</table>\n",
              "<p>276 rows × 4 columns</p>\n",
              "</div>"
            ],
            "text/plain": [
              "       Total       date InvoiceNo  CustomerID\n",
              "0      15.30 2010-12-01    536365     17850.0\n",
              "1      15.30 2010-12-01    536373     17850.0\n",
              "3      15.30 2010-12-01    536375     17850.0\n",
              "5      15.30 2010-12-01    536378     14688.0\n",
              "7      15.30 2010-12-01    536396     17850.0\n",
              "...      ...        ...       ...         ...\n",
              "2187   22.95 2010-12-01    536401     15862.0\n",
              "2188   16.95 2010-12-01    536401     15862.0\n",
              "2189   10.65 2010-12-01    536401     15862.0\n",
              "2190   13.90 2010-12-01    536401     15862.0\n",
              "2191  153.00 2010-12-01    536402     15513.0\n",
              "\n",
              "[276 rows x 4 columns]"
            ]
          },
          "execution_count": 46,
          "metadata": {},
          "output_type": "execute_result"
        }
      ],
      "source": [
        "ecom_merge = pd.merge(ecom2.iloc[:400],ecom3.iloc[:400])\n",
        "ecom_merge.drop_duplicates()"
      ]
    },
    {
      "cell_type": "markdown",
      "metadata": {
        "id": "vX49EQXtw5aH"
      },
      "source": [
        "** Combine ecom2 and ecom3 with join (inner)**"
      ]
    },
    {
      "cell_type": "code",
      "execution_count": null,
      "metadata": {
        "id": "BmQh8_8zw5aH",
        "outputId": "4e68d929-bef6-4c38-eeed-c01c5e4f22fa"
      },
      "outputs": [
        {
          "data": {
            "text/html": [
              "<div>\n",
              "<style scoped>\n",
              "    .dataframe tbody tr th:only-of-type {\n",
              "        vertical-align: middle;\n",
              "    }\n",
              "\n",
              "    .dataframe tbody tr th {\n",
              "        vertical-align: top;\n",
              "    }\n",
              "\n",
              "    .dataframe thead th {\n",
              "        text-align: right;\n",
              "    }\n",
              "</style>\n",
              "<table border=\"1\" class=\"dataframe\">\n",
              "  <thead>\n",
              "    <tr style=\"text-align: right;\">\n",
              "      <th></th>\n",
              "      <th>Total_left</th>\n",
              "      <th>date</th>\n",
              "      <th>InvoiceNo</th>\n",
              "      <th>CustomerID</th>\n",
              "      <th>Total_right</th>\n",
              "    </tr>\n",
              "  </thead>\n",
              "  <tbody>\n",
              "    <tr>\n",
              "      <th>0</th>\n",
              "      <td>15.30</td>\n",
              "      <td>2010-12-01</td>\n",
              "      <td>536365</td>\n",
              "      <td>17850.0</td>\n",
              "      <td>15.30</td>\n",
              "    </tr>\n",
              "    <tr>\n",
              "      <th>1</th>\n",
              "      <td>20.34</td>\n",
              "      <td>2010-12-01</td>\n",
              "      <td>536365</td>\n",
              "      <td>17850.0</td>\n",
              "      <td>20.34</td>\n",
              "    </tr>\n",
              "    <tr>\n",
              "      <th>2</th>\n",
              "      <td>22.00</td>\n",
              "      <td>2010-12-01</td>\n",
              "      <td>536365</td>\n",
              "      <td>17850.0</td>\n",
              "      <td>22.00</td>\n",
              "    </tr>\n",
              "    <tr>\n",
              "      <th>3</th>\n",
              "      <td>20.34</td>\n",
              "      <td>2010-12-01</td>\n",
              "      <td>536365</td>\n",
              "      <td>17850.0</td>\n",
              "      <td>20.34</td>\n",
              "    </tr>\n",
              "    <tr>\n",
              "      <th>4</th>\n",
              "      <td>20.34</td>\n",
              "      <td>2010-12-01</td>\n",
              "      <td>536365</td>\n",
              "      <td>17850.0</td>\n",
              "      <td>20.34</td>\n",
              "    </tr>\n",
              "    <tr>\n",
              "      <th>...</th>\n",
              "      <td>...</td>\n",
              "      <td>...</td>\n",
              "      <td>...</td>\n",
              "      <td>...</td>\n",
              "      <td>...</td>\n",
              "    </tr>\n",
              "    <tr>\n",
              "      <th>541904</th>\n",
              "      <td>10.20</td>\n",
              "      <td>2011-12-09</td>\n",
              "      <td>581587</td>\n",
              "      <td>12680.0</td>\n",
              "      <td>10.20</td>\n",
              "    </tr>\n",
              "    <tr>\n",
              "      <th>541905</th>\n",
              "      <td>12.60</td>\n",
              "      <td>2011-12-09</td>\n",
              "      <td>581587</td>\n",
              "      <td>12680.0</td>\n",
              "      <td>12.60</td>\n",
              "    </tr>\n",
              "    <tr>\n",
              "      <th>541906</th>\n",
              "      <td>16.60</td>\n",
              "      <td>2011-12-09</td>\n",
              "      <td>581587</td>\n",
              "      <td>12680.0</td>\n",
              "      <td>16.60</td>\n",
              "    </tr>\n",
              "    <tr>\n",
              "      <th>541907</th>\n",
              "      <td>16.60</td>\n",
              "      <td>2011-12-09</td>\n",
              "      <td>581587</td>\n",
              "      <td>12680.0</td>\n",
              "      <td>16.60</td>\n",
              "    </tr>\n",
              "    <tr>\n",
              "      <th>541908</th>\n",
              "      <td>14.85</td>\n",
              "      <td>2011-12-09</td>\n",
              "      <td>581587</td>\n",
              "      <td>12680.0</td>\n",
              "      <td>14.85</td>\n",
              "    </tr>\n",
              "  </tbody>\n",
              "</table>\n",
              "<p>541909 rows × 5 columns</p>\n",
              "</div>"
            ],
            "text/plain": [
              "        Total_left       date InvoiceNo  CustomerID  Total_right\n",
              "0            15.30 2010-12-01    536365     17850.0        15.30\n",
              "1            20.34 2010-12-01    536365     17850.0        20.34\n",
              "2            22.00 2010-12-01    536365     17850.0        22.00\n",
              "3            20.34 2010-12-01    536365     17850.0        20.34\n",
              "4            20.34 2010-12-01    536365     17850.0        20.34\n",
              "...            ...        ...       ...         ...          ...\n",
              "541904       10.20 2011-12-09    581587     12680.0        10.20\n",
              "541905       12.60 2011-12-09    581587     12680.0        12.60\n",
              "541906       16.60 2011-12-09    581587     12680.0        16.60\n",
              "541907       16.60 2011-12-09    581587     12680.0        16.60\n",
              "541908       14.85 2011-12-09    581587     12680.0        14.85\n",
              "\n",
              "[541909 rows x 5 columns]"
            ]
          },
          "execution_count": 47,
          "metadata": {},
          "output_type": "execute_result"
        }
      ],
      "source": [
        "ecom2.join(ecom3,lsuffix=\"_left\",rsuffix=\"_right\")"
      ]
    },
    {
      "cell_type": "markdown",
      "metadata": {
        "id": "1kNQFNWYw5aH"
      },
      "source": [
        "# Congrats!"
      ]
    },
    {
      "cell_type": "code",
      "execution_count": null,
      "metadata": {
        "id": "b2HrzGDww5aH"
      },
      "outputs": [],
      "source": [
        ""
      ]
    }
  ],
  "metadata": {
    "kernelspec": {
      "display_name": "Python 3",
      "language": "python",
      "name": "python3"
    },
    "language_info": {
      "codemirror_mode": {
        "name": "ipython",
        "version": 3
      },
      "file_extension": ".py",
      "mimetype": "text/x-python",
      "name": "python",
      "nbconvert_exporter": "python",
      "pygments_lexer": "ipython3",
      "version": "3.8.8"
    },
    "colab": {
      "name": "lab3 Assignment 2.ipynb",
      "provenance": [],
      "include_colab_link": true
    }
  },
  "nbformat": 4,
  "nbformat_minor": 0
}